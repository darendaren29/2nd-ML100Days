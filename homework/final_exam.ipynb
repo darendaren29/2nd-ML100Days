{
 "cells": [
  {
   "cell_type": "code",
   "execution_count": 11,
   "metadata": {},
   "outputs": [],
   "source": [
    "import cv2\n",
    "import os\n",
    "from keras.models import Model\n",
    "from keras.optimizers import Adam\n",
    "from keras.utils import to_categorical\n",
    "import numpy as np\n",
    "from sklearn.model_selection import train_test_split, KFold\n",
    "from sklearn.preprocessing import scale\n",
    "from math import ceil\n",
    "import matplotlib.pyplot as plt\n",
    "import tensorflow.keras as keras\n",
    "from tensorflow.keras.preprocessing.image import ImageDataGenerator\n",
    "from tensorflow.keras.models import Sequential\n",
    "from tensorflow.keras.layers import Dense, Dropout, Activation, Flatten\n",
    "from tensorflow.keras.layers import Conv2D, MaxPooling2D\n",
    "from tensorflow.keras.optimizers import RMSprop, Adam"
   ]
  },
  {
   "cell_type": "code",
   "execution_count": 12,
   "metadata": {},
   "outputs": [],
   "source": [
    "path_test='../data/kaggle_dogcat/test'\n",
    "path_train_cats='../data/kaggle_dogcat/train/cats'\n",
    "path_train_dogs='../data/kaggle_dogcat/train/dogs'\n",
    "def getimage(path):\n",
    "    images=[]\n",
    "    for i in os.listdir(path):\n",
    "        img=cv2.resize(cv2.imread(os.path.join(path,i)), (32,32), interpolation=cv2.INTER_LINEAR )\n",
    "        images.append(img)\n",
    "    return images"
   ]
  },
  {
   "cell_type": "code",
   "execution_count": 13,
   "metadata": {},
   "outputs": [],
   "source": [
    "train_cats=np.asarray(getimage(path_train_cats))\n",
    "train_dogs=np.asarray(getimage(path_train_dogs))\n",
    "train=np.append(train_dogs,train_cats,axis=0)"
   ]
  },
  {
   "cell_type": "code",
   "execution_count": 14,
   "metadata": {},
   "outputs": [],
   "source": [
    "zero=np.zeros(len(train_cats))\n",
    "one=np.ones(len(train_dogs))\n",
    "test=np.append(zero,one)\n",
    "test=test.reshape(4000,1)"
   ]
  },
  {
   "cell_type": "code",
   "execution_count": 15,
   "metadata": {},
   "outputs": [],
   "source": [
    "x_train, x_test,y_train, y_test = train_test_split(train,test,test_size=0.33, random_state=42)"
   ]
  },
  {
   "cell_type": "code",
   "execution_count": 16,
   "metadata": {},
   "outputs": [],
   "source": [
    "x_train = x_train.astype('float32')\n",
    "x_test = x_test.astype('float32')\n",
    "\n",
    "x_train = x_train / 255.\n",
    "x_test = x_test / 255.\n",
    "y_train = to_categorical(y_train, 10)\n",
    "y_test = to_categorical(y_test, 10)"
   ]
  },
  {
   "cell_type": "code",
   "execution_count": 17,
   "metadata": {},
   "outputs": [
    {
     "name": "stdout",
     "output_type": "stream",
     "text": [
      "_________________________________________________________________\n",
      "Layer (type)                 Output Shape              Param #   \n",
      "=================================================================\n",
      "conv2d_8 (Conv2D)            (None, 32, 32, 32)        896       \n",
      "_________________________________________________________________\n",
      "activation_12 (Activation)   (None, 32, 32, 32)        0         \n",
      "_________________________________________________________________\n",
      "conv2d_9 (Conv2D)            (None, 30, 30, 32)        9248      \n",
      "_________________________________________________________________\n",
      "activation_13 (Activation)   (None, 30, 30, 32)        0         \n",
      "_________________________________________________________________\n",
      "max_pooling2d_4 (MaxPooling2 (None, 15, 15, 32)        0         \n",
      "_________________________________________________________________\n",
      "dropout_6 (Dropout)          (None, 15, 15, 32)        0         \n",
      "_________________________________________________________________\n",
      "conv2d_10 (Conv2D)           (None, 15, 15, 64)        18496     \n",
      "_________________________________________________________________\n",
      "activation_14 (Activation)   (None, 15, 15, 64)        0         \n",
      "_________________________________________________________________\n",
      "conv2d_11 (Conv2D)           (None, 13, 13, 64)        36928     \n",
      "_________________________________________________________________\n",
      "activation_15 (Activation)   (None, 13, 13, 64)        0         \n",
      "_________________________________________________________________\n",
      "max_pooling2d_5 (MaxPooling2 (None, 6, 6, 64)          0         \n",
      "_________________________________________________________________\n",
      "dropout_7 (Dropout)          (None, 6, 6, 64)          0         \n",
      "_________________________________________________________________\n",
      "flatten_2 (Flatten)          (None, 2304)              0         \n",
      "_________________________________________________________________\n",
      "dense_4 (Dense)              (None, 512)               1180160   \n",
      "_________________________________________________________________\n",
      "activation_16 (Activation)   (None, 512)               0         \n",
      "_________________________________________________________________\n",
      "dropout_8 (Dropout)          (None, 512)               0         \n",
      "_________________________________________________________________\n",
      "dense_5 (Dense)              (None, 10)                5130      \n",
      "_________________________________________________________________\n",
      "activation_17 (Activation)   (None, 10)                0         \n",
      "=================================================================\n",
      "Total params: 1,250,858\n",
      "Trainable params: 1,250,858\n",
      "Non-trainable params: 0\n",
      "_________________________________________________________________\n"
     ]
    }
   ],
   "source": [
    "model = Sequential()\n",
    "model.add(Conv2D(32, (3, 3), padding='same',\n",
    "                 input_shape=x_train.shape[1:]))\n",
    "model.add(Activation('relu'))\n",
    "model.add(Conv2D(32, (3, 3)))\n",
    "model.add(Activation('relu'))\n",
    "model.add(MaxPooling2D(pool_size=(2, 2)))\n",
    "model.add(Dropout(0.25))\n",
    "\n",
    "model.add(Conv2D(64, (3, 3), padding='same'))\n",
    "model.add(Activation('relu'))\n",
    "model.add(Conv2D(64, (3, 3)))\n",
    "model.add(Activation('relu'))\n",
    "model.add(MaxPooling2D(pool_size=(2, 2)))\n",
    "model.add(Dropout(0.25))\n",
    "\n",
    "model.add(Flatten())\n",
    "model.add(Dense(512))\n",
    "model.add(Activation('relu'))\n",
    "model.add(Dropout(0.5))\n",
    "model.add(Dense(num_classes))\n",
    "model.add(Activation('softmax'))\n",
    "model.summary()"
   ]
  },
  {
   "cell_type": "code",
   "execution_count": 18,
   "metadata": {},
   "outputs": [
    {
     "name": "stdout",
     "output_type": "stream",
     "text": [
      "Train on 2680 samples, validate on 1320 samples\n",
      "Epoch 1/30\n",
      "2680/2680 [==============================] - 1s 451us/sample - loss: 0.7658 - acc: 0.4866 - val_loss: 0.6989 - val_acc: 0.5212\n",
      "Epoch 2/30\n",
      "2680/2680 [==============================] - 1s 229us/sample - loss: 0.7028 - acc: 0.5246 - val_loss: 0.6895 - val_acc: 0.5841\n",
      "Epoch 3/30\n",
      "2680/2680 [==============================] - 1s 231us/sample - loss: 0.6777 - acc: 0.5802 - val_loss: 0.6875 - val_acc: 0.5303\n",
      "Epoch 4/30\n",
      "2680/2680 [==============================] - 1s 233us/sample - loss: 0.6556 - acc: 0.6160 - val_loss: 0.6352 - val_acc: 0.6417\n",
      "Epoch 5/30\n",
      "2680/2680 [==============================] - 1s 231us/sample - loss: 0.6226 - acc: 0.6634 - val_loss: 0.6076 - val_acc: 0.6705\n",
      "Epoch 6/30\n",
      "2680/2680 [==============================] - 1s 230us/sample - loss: 0.6097 - acc: 0.6672 - val_loss: 0.6214 - val_acc: 0.6758\n",
      "Epoch 7/30\n",
      "2680/2680 [==============================] - 1s 234us/sample - loss: 0.5791 - acc: 0.6955 - val_loss: 0.6027 - val_acc: 0.6818\n",
      "Epoch 8/30\n",
      "2680/2680 [==============================] - 1s 231us/sample - loss: 0.5510 - acc: 0.7209 - val_loss: 0.5882 - val_acc: 0.6727\n",
      "Epoch 9/30\n",
      "2680/2680 [==============================] - 1s 238us/sample - loss: 0.5393 - acc: 0.7261 - val_loss: 0.6184 - val_acc: 0.6659\n",
      "Epoch 10/30\n",
      "2680/2680 [==============================] - 1s 238us/sample - loss: 0.5082 - acc: 0.7500 - val_loss: 0.5664 - val_acc: 0.6977\n",
      "Epoch 11/30\n",
      "2680/2680 [==============================] - 1s 235us/sample - loss: 0.4708 - acc: 0.7761 - val_loss: 0.5392 - val_acc: 0.7159\n",
      "Epoch 12/30\n",
      "2680/2680 [==============================] - 1s 229us/sample - loss: 0.4429 - acc: 0.8007 - val_loss: 0.5209 - val_acc: 0.7258\n",
      "Epoch 13/30\n",
      "2680/2680 [==============================] - 1s 232us/sample - loss: 0.4225 - acc: 0.8022 - val_loss: 0.5208 - val_acc: 0.7530\n",
      "Epoch 14/30\n",
      "2680/2680 [==============================] - 1s 235us/sample - loss: 0.4061 - acc: 0.8123 - val_loss: 0.5516 - val_acc: 0.7379\n",
      "Epoch 15/30\n",
      "2680/2680 [==============================] - 1s 233us/sample - loss: 0.3791 - acc: 0.8325 - val_loss: 0.5577 - val_acc: 0.7364\n",
      "Epoch 16/30\n",
      "2680/2680 [==============================] - 1s 231us/sample - loss: 0.3588 - acc: 0.8313 - val_loss: 0.5710 - val_acc: 0.7379\n",
      "Epoch 17/30\n",
      "2680/2680 [==============================] - 1s 241us/sample - loss: 0.3202 - acc: 0.8616 - val_loss: 0.5544 - val_acc: 0.7485\n",
      "Epoch 18/30\n",
      "2680/2680 [==============================] - 1s 240us/sample - loss: 0.3013 - acc: 0.8701 - val_loss: 0.5551 - val_acc: 0.7523\n",
      "Epoch 19/30\n",
      "2680/2680 [==============================] - 1s 221us/sample - loss: 0.2477 - acc: 0.8981 - val_loss: 0.5897 - val_acc: 0.7591\n",
      "Epoch 20/30\n",
      "2680/2680 [==============================] - 1s 222us/sample - loss: 0.2387 - acc: 0.8922 - val_loss: 0.6284 - val_acc: 0.7311\n",
      "Epoch 21/30\n",
      "2680/2680 [==============================] - 1s 220us/sample - loss: 0.2344 - acc: 0.8951 - val_loss: 0.6258 - val_acc: 0.7538\n",
      "Epoch 22/30\n",
      "2680/2680 [==============================] - 1s 220us/sample - loss: 0.1986 - acc: 0.9157 - val_loss: 0.5932 - val_acc: 0.7629\n",
      "Epoch 23/30\n",
      "2680/2680 [==============================] - 1s 221us/sample - loss: 0.1745 - acc: 0.9302 - val_loss: 0.6661 - val_acc: 0.7455\n",
      "Epoch 24/30\n",
      "2680/2680 [==============================] - 1s 221us/sample - loss: 0.1572 - acc: 0.9373 - val_loss: 0.7174 - val_acc: 0.7621\n",
      "Epoch 25/30\n",
      "2680/2680 [==============================] - 1s 222us/sample - loss: 0.1574 - acc: 0.9340 - val_loss: 0.8386 - val_acc: 0.7508\n",
      "Epoch 26/30\n",
      "2680/2680 [==============================] - 1s 230us/sample - loss: 0.1624 - acc: 0.9366 - val_loss: 0.8124 - val_acc: 0.7576\n",
      "Epoch 27/30\n",
      "2680/2680 [==============================] - 1s 225us/sample - loss: 0.1241 - acc: 0.9522 - val_loss: 0.7750 - val_acc: 0.7621\n",
      "Epoch 28/30\n",
      "2680/2680 [==============================] - 1s 224us/sample - loss: 0.1276 - acc: 0.9515 - val_loss: 0.7670 - val_acc: 0.7432\n",
      "Epoch 29/30\n",
      "2680/2680 [==============================] - 1s 221us/sample - loss: 0.1223 - acc: 0.9530 - val_loss: 0.8435 - val_acc: 0.7636\n",
      "Epoch 30/30\n",
      "2680/2680 [==============================] - 1s 222us/sample - loss: 0.1121 - acc: 0.9556 - val_loss: 0.7661 - val_acc: 0.7727\n",
      "Test loss: 0.7660953546112234\n",
      "Test accuracy: 0.77272725\n"
     ]
    }
   ],
   "source": [
    "batch_size = 32 # batch 的大小，如果出現 OOM error，請降低這個值\n",
    "num_classes = 10 # 類別的數量，Cifar 10 共有 10 個類別\n",
    "epochs = 30 # 訓練整個資料集共 30個循環\n",
    "\n",
    "model.compile(loss='categorical_crossentropy',\n",
    "              optimizer=Adam(),\n",
    "              metrics=['accuracy'])\n",
    "\n",
    "history = model.fit(x_train, y_train,\n",
    "                    batch_size=batch_size,\n",
    "                    epochs=epochs,\n",
    "                    verbose=1,\n",
    "                    validation_data=(x_test, y_test))\n",
    "score = model.evaluate(x_test, y_test, verbose=0)\n",
    "print('Test loss:', score[0])\n",
    "print('Test accuracy:', score[1])"
   ]
  },
  {
   "cell_type": "code",
   "execution_count": 43,
   "metadata": {},
   "outputs": [],
   "source": [
    "test_img=np.asarray(getimage(path_test))"
   ]
  },
  {
   "cell_type": "code",
   "execution_count": 44,
   "metadata": {},
   "outputs": [],
   "source": [
    "prediction=model.predict_classes(test_img)"
   ]
  },
  {
   "cell_type": "code",
   "execution_count": 45,
   "metadata": {},
   "outputs": [],
   "source": [
    "ID=np.arange(0,400,1)"
   ]
  },
  {
   "cell_type": "code",
   "execution_count": 50,
   "metadata": {},
   "outputs": [],
   "source": [
    "import pandas as pd\n",
    "prediction=pd.DataFrame(prediction)\n",
    "ID=pd.DataFrame(ID)"
   ]
  },
  {
   "cell_type": "code",
   "execution_count": 61,
   "metadata": {},
   "outputs": [],
   "source": [
    "prediction.columns=[\"prediction\"]\n",
    "ID.columns=[\"ID\"]"
   ]
  },
  {
   "cell_type": "code",
   "execution_count": 75,
   "metadata": {},
   "outputs": [],
   "source": [
    "out=pd.concat([ID,prediction],axis=1)"
   ]
  },
  {
   "cell_type": "code",
   "execution_count": 77,
   "metadata": {},
   "outputs": [],
   "source": [
    "out.to_csv(\"final.csv\", header=[\"ID\", \"Predicted\"], index=False)"
   ]
  },
  {
   "cell_type": "code",
   "execution_count": null,
   "metadata": {},
   "outputs": [],
   "source": []
  }
 ],
 "metadata": {
  "kernelspec": {
   "display_name": "Python 3",
   "language": "python",
   "name": "python3"
  },
  "language_info": {
   "codemirror_mode": {
    "name": "ipython",
    "version": 3
   },
   "file_extension": ".py",
   "mimetype": "text/x-python",
   "name": "python",
   "nbconvert_exporter": "python",
   "pygments_lexer": "ipython3",
   "version": "3.7.3"
  }
 },
 "nbformat": 4,
 "nbformat_minor": 2
}
