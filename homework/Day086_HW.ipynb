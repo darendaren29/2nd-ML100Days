{
 "cells": [
  {
   "cell_type": "markdown",
   "metadata": {},
   "source": [
    "## Work\n",
    "1. 試比較 save_best_only 與否的差異\n",
    "2. 請僅存入將 save_weights_only 設定為 True, 並嘗試 reset ipynb 並將模型與權重重新建回並預測 x_test"
   ]
  },
  {
   "cell_type": "code",
   "execution_count": 1,
   "metadata": {},
   "outputs": [
    {
     "name": "stderr",
     "output_type": "stream",
     "text": [
      "Using TensorFlow backend.\n"
     ]
    }
   ],
   "source": [
    "import os\n",
    "import keras\n",
    "\n",
    "# Disable GPU\n",
    "os.environ[\"CUDA_VISIBLE_DEVICES\"] = \"None\""
   ]
  },
  {
   "cell_type": "code",
   "execution_count": 2,
   "metadata": {},
   "outputs": [],
   "source": [
    "train, test = keras.datasets.cifar10.load_data()"
   ]
  },
  {
   "cell_type": "code",
   "execution_count": 3,
   "metadata": {},
   "outputs": [],
   "source": [
    "## 資料前處理\n",
    "def preproc_x(x, flatten=True):\n",
    "    x = x / 255.\n",
    "    if flatten:\n",
    "        x = x.reshape((len(x), -1))\n",
    "    return x\n",
    "\n",
    "def preproc_y(y, num_classes=10):\n",
    "    if y.shape[-1] == 1:\n",
    "        y = keras.utils.to_categorical(y, num_classes)\n",
    "    return y    "
   ]
  },
  {
   "cell_type": "code",
   "execution_count": 4,
   "metadata": {},
   "outputs": [],
   "source": [
    "x_train, y_train = train\n",
    "x_test, y_test = test\n",
    "\n",
    "# Preproc the inputs\n",
    "x_train = preproc_x(x_train)\n",
    "x_test = preproc_x(x_test)\n",
    "\n",
    "# Preprc the outputs\n",
    "y_train = preproc_y(y_train)\n",
    "y_test = preproc_y(y_test)"
   ]
  },
  {
   "cell_type": "code",
   "execution_count": 5,
   "metadata": {},
   "outputs": [],
   "source": [
    "from keras.layers import BatchNormalization\n",
    "\n",
    "def build_mlp(input_shape, output_units=10, num_neurons=[512, 256, 128]):\n",
    "    \"\"\"Code Here\n",
    "    建立你的神經網路\n",
    "    \"\"\"\n",
    "    input_layer = keras.layers.Input(input_shape)\n",
    "    \n",
    "    for i, n_units in enumerate(num_neurons):\n",
    "        if i == 0:\n",
    "            x = keras.layers.Dense(units=n_units, \n",
    "                                   activation=\"relu\", \n",
    "                                   name=\"hidden_layer\"+str(i+1))(input_layer)\n",
    "            x = BatchNormalization()(x)\n",
    "        else:\n",
    "            x = keras.layers.Dense(units=n_units, \n",
    "                                   activation=\"relu\", \n",
    "                                   name=\"hidden_layer\"+str(i+1))(x)\n",
    "            x = BatchNormalization()(x)\n",
    "    \n",
    "    out = keras.layers.Dense(units=output_units, activation=\"softmax\", name=\"output\")(x)\n",
    "    \n",
    "    model = keras.models.Model(inputs=[input_layer], outputs=[out])\n",
    "    return model"
   ]
  },
  {
   "cell_type": "code",
   "execution_count": 6,
   "metadata": {},
   "outputs": [],
   "source": [
    "\"\"\"Code Here\n",
    "設定超參數\n",
    "\"\"\"\n",
    "## 超參數設定\n",
    "LEARNING_RATE = 1e-3\n",
    "EPOCHS = 50\n",
    "BATCH_SIZE = 1024\n",
    "MOMENTUM = 0.95"
   ]
  },
  {
   "cell_type": "code",
   "execution_count": 7,
   "metadata": {},
   "outputs": [],
   "source": [
    "# 載入 Callbacks\n",
    "\"\"\"Code Here\n",
    "設定 callbacks: model checkpoint\n",
    "\"\"\"\n",
    "\n",
    "from keras.callbacks import ModelCheckpoint\n",
    "\n",
    "model_ckpt = ModelCheckpoint(filepath=\"./tmp666.h5\", \n",
    "                             monitor=\"val_loss\", \n",
    "                             save_best_only=True,\n",
    "                            save_weights_only=True)"
   ]
  },
  {
   "cell_type": "code",
   "execution_count": 8,
   "metadata": {},
   "outputs": [
    {
     "name": "stdout",
     "output_type": "stream",
     "text": [
      "WARNING:tensorflow:From C:\\ProgramData\\Anaconda3\\lib\\site-packages\\tensorflow\\python\\framework\\op_def_library.py:263: colocate_with (from tensorflow.python.framework.ops) is deprecated and will be removed in a future version.\n",
      "Instructions for updating:\n",
      "Colocations handled automatically by placer.\n",
      "_________________________________________________________________\n",
      "Layer (type)                 Output Shape              Param #   \n",
      "=================================================================\n",
      "input_1 (InputLayer)         (None, 3072)              0         \n",
      "_________________________________________________________________\n",
      "hidden_layer1 (Dense)        (None, 512)               1573376   \n",
      "_________________________________________________________________\n",
      "batch_normalization_1 (Batch (None, 512)               2048      \n",
      "_________________________________________________________________\n",
      "hidden_layer2 (Dense)        (None, 256)               131328    \n",
      "_________________________________________________________________\n",
      "batch_normalization_2 (Batch (None, 256)               1024      \n",
      "_________________________________________________________________\n",
      "hidden_layer3 (Dense)        (None, 128)               32896     \n",
      "_________________________________________________________________\n",
      "batch_normalization_3 (Batch (None, 128)               512       \n",
      "_________________________________________________________________\n",
      "output (Dense)               (None, 10)                1290      \n",
      "=================================================================\n",
      "Total params: 1,742,474\n",
      "Trainable params: 1,740,682\n",
      "Non-trainable params: 1,792\n",
      "_________________________________________________________________\n",
      "WARNING:tensorflow:From C:\\ProgramData\\Anaconda3\\lib\\site-packages\\tensorflow\\python\\ops\\math_ops.py:3066: to_int32 (from tensorflow.python.ops.math_ops) is deprecated and will be removed in a future version.\n",
      "Instructions for updating:\n",
      "Use tf.cast instead.\n",
      "Train on 50000 samples, validate on 10000 samples\n",
      "Epoch 1/50\n",
      "50000/50000 [==============================] - 5s 102us/step - loss: 2.2067 - acc: 0.2741 - val_loss: 2.0013 - val_acc: 0.3359\n",
      "Epoch 2/50\n",
      "50000/50000 [==============================] - 4s 81us/step - loss: 1.7519 - acc: 0.3867 - val_loss: 1.8092 - val_acc: 0.3770\n",
      "Epoch 3/50\n",
      "50000/50000 [==============================] - 4s 82us/step - loss: 1.6202 - acc: 0.4318 - val_loss: 1.6993 - val_acc: 0.4114\n",
      "Epoch 4/50\n",
      "50000/50000 [==============================] - 4s 82us/step - loss: 1.5464 - acc: 0.4601 - val_loss: 1.6234 - val_acc: 0.4283\n",
      "Epoch 5/50\n",
      "50000/50000 [==============================] - 4s 82us/step - loss: 1.4910 - acc: 0.4793 - val_loss: 1.5936 - val_acc: 0.4380\n",
      "Epoch 6/50\n",
      "50000/50000 [==============================] - 4s 83us/step - loss: 1.4453 - acc: 0.4934 - val_loss: 1.5766 - val_acc: 0.4505\n",
      "Epoch 7/50\n",
      "50000/50000 [==============================] - 4s 84us/step - loss: 1.4065 - acc: 0.5100 - val_loss: 1.5512 - val_acc: 0.4542\n",
      "Epoch 8/50\n",
      "50000/50000 [==============================] - 4s 83us/step - loss: 1.3709 - acc: 0.5223 - val_loss: 1.5335 - val_acc: 0.4621\n",
      "Epoch 9/50\n",
      "50000/50000 [==============================] - 4s 83us/step - loss: 1.3368 - acc: 0.5356 - val_loss: 1.5237 - val_acc: 0.4660\n",
      "Epoch 10/50\n",
      "50000/50000 [==============================] - 4s 84us/step - loss: 1.3072 - acc: 0.5460 - val_loss: 1.5063 - val_acc: 0.4719\n",
      "Epoch 11/50\n",
      "50000/50000 [==============================] - 4s 84us/step - loss: 1.2793 - acc: 0.5569 - val_loss: 1.4978 - val_acc: 0.4714\n",
      "Epoch 12/50\n",
      "50000/50000 [==============================] - 4s 84us/step - loss: 1.2515 - acc: 0.5689 - val_loss: 1.4871 - val_acc: 0.4769\n",
      "Epoch 13/50\n",
      "50000/50000 [==============================] - 4s 84us/step - loss: 1.2259 - acc: 0.5779 - val_loss: 1.4767 - val_acc: 0.4807\n",
      "Epoch 14/50\n",
      "50000/50000 [==============================] - 4s 83us/step - loss: 1.2014 - acc: 0.5863 - val_loss: 1.4665 - val_acc: 0.4850\n",
      "Epoch 15/50\n",
      "50000/50000 [==============================] - 4s 83us/step - loss: 1.1772 - acc: 0.5953 - val_loss: 1.4755 - val_acc: 0.4795\n",
      "Epoch 16/50\n",
      "50000/50000 [==============================] - 4s 84us/step - loss: 1.1537 - acc: 0.6036 - val_loss: 1.4645 - val_acc: 0.4864\n",
      "Epoch 17/50\n",
      "50000/50000 [==============================] - 4s 84us/step - loss: 1.1300 - acc: 0.6143 - val_loss: 1.4569 - val_acc: 0.4885\n",
      "Epoch 18/50\n",
      "50000/50000 [==============================] - 4s 85us/step - loss: 1.1085 - acc: 0.6221 - val_loss: 1.4549 - val_acc: 0.4912\n",
      "Epoch 19/50\n",
      "50000/50000 [==============================] - 4s 84us/step - loss: 1.0860 - acc: 0.6307 - val_loss: 1.4578 - val_acc: 0.4873\n",
      "Epoch 20/50\n",
      "50000/50000 [==============================] - 4s 86us/step - loss: 1.0639 - acc: 0.6386 - val_loss: 1.4544 - val_acc: 0.4960\n",
      "Epoch 21/50\n",
      "50000/50000 [==============================] - 4s 84us/step - loss: 1.0445 - acc: 0.6474 - val_loss: 1.4516 - val_acc: 0.4938\n",
      "Epoch 22/50\n",
      "50000/50000 [==============================] - 4s 84us/step - loss: 1.0224 - acc: 0.6565 - val_loss: 1.4502 - val_acc: 0.4950\n",
      "Epoch 23/50\n",
      "50000/50000 [==============================] - 4s 84us/step - loss: 1.0011 - acc: 0.6639 - val_loss: 1.4474 - val_acc: 0.4947\n",
      "Epoch 24/50\n",
      "50000/50000 [==============================] - 4s 84us/step - loss: 0.9815 - acc: 0.6721 - val_loss: 1.4629 - val_acc: 0.4921\n",
      "Epoch 25/50\n",
      "50000/50000 [==============================] - 4s 84us/step - loss: 0.9603 - acc: 0.6806 - val_loss: 1.4646 - val_acc: 0.4934\n",
      "Epoch 26/50\n",
      "50000/50000 [==============================] - 4s 87us/step - loss: 0.9416 - acc: 0.6867 - val_loss: 1.4691 - val_acc: 0.4918\n",
      "Epoch 27/50\n",
      "50000/50000 [==============================] - 4s 85us/step - loss: 0.9215 - acc: 0.6952 - val_loss: 1.4833 - val_acc: 0.4903\n",
      "Epoch 28/50\n",
      "50000/50000 [==============================] - 4s 85us/step - loss: 0.9027 - acc: 0.7034 - val_loss: 1.4683 - val_acc: 0.4957\n",
      "Epoch 29/50\n",
      "50000/50000 [==============================] - 4s 85us/step - loss: 0.8828 - acc: 0.7120 - val_loss: 1.4674 - val_acc: 0.4965\n",
      "Epoch 30/50\n",
      "50000/50000 [==============================] - 4s 85us/step - loss: 0.8634 - acc: 0.7192 - val_loss: 1.4661 - val_acc: 0.4960\n",
      "Epoch 31/50\n",
      "50000/50000 [==============================] - 4s 85us/step - loss: 0.8446 - acc: 0.7273 - val_loss: 1.4803 - val_acc: 0.4983\n",
      "Epoch 32/50\n",
      "50000/50000 [==============================] - 4s 84us/step - loss: 0.8236 - acc: 0.7339 - val_loss: 1.4850 - val_acc: 0.4990\n",
      "Epoch 33/50\n",
      "50000/50000 [==============================] - 4s 86us/step - loss: 0.8030 - acc: 0.7424 - val_loss: 1.4920 - val_acc: 0.4971\n",
      "Epoch 34/50\n",
      "50000/50000 [==============================] - 4s 85us/step - loss: 0.7858 - acc: 0.7493 - val_loss: 1.4893 - val_acc: 0.4972\n",
      "Epoch 35/50\n",
      "50000/50000 [==============================] - 4s 85us/step - loss: 0.7663 - acc: 0.7577 - val_loss: 1.5014 - val_acc: 0.4968\n",
      "Epoch 36/50\n",
      "50000/50000 [==============================] - 4s 85us/step - loss: 0.7484 - acc: 0.7647 - val_loss: 1.5180 - val_acc: 0.4954\n",
      "Epoch 37/50\n",
      "50000/50000 [==============================] - 4s 85us/step - loss: 0.7310 - acc: 0.7703 - val_loss: 1.5200 - val_acc: 0.4903\n",
      "Epoch 38/50\n",
      "50000/50000 [==============================] - 4s 86us/step - loss: 0.7123 - acc: 0.7786 - val_loss: 1.5253 - val_acc: 0.4927\n",
      "Epoch 39/50\n",
      "50000/50000 [==============================] - 4s 85us/step - loss: 0.6957 - acc: 0.7829 - val_loss: 1.5305 - val_acc: 0.4955\n",
      "Epoch 40/50\n",
      "50000/50000 [==============================] - 4s 85us/step - loss: 0.6776 - acc: 0.7909 - val_loss: 1.5430 - val_acc: 0.4936\n",
      "Epoch 41/50\n",
      "50000/50000 [==============================] - 4s 85us/step - loss: 0.6573 - acc: 0.8012 - val_loss: 1.5584 - val_acc: 0.4925\n",
      "Epoch 42/50\n",
      "50000/50000 [==============================] - 4s 86us/step - loss: 0.6401 - acc: 0.8079 - val_loss: 1.5692 - val_acc: 0.4951\n",
      "Epoch 43/50\n",
      "50000/50000 [==============================] - 4s 85us/step - loss: 0.6219 - acc: 0.8136 - val_loss: 1.5795 - val_acc: 0.4970\n",
      "Epoch 44/50\n",
      "50000/50000 [==============================] - 4s 85us/step - loss: 0.6045 - acc: 0.8219 - val_loss: 1.5957 - val_acc: 0.4945\n",
      "Epoch 45/50\n",
      "50000/50000 [==============================] - 4s 84us/step - loss: 0.5862 - acc: 0.8273 - val_loss: 1.5918 - val_acc: 0.4864\n"
     ]
    },
    {
     "name": "stdout",
     "output_type": "stream",
     "text": [
      "Epoch 46/50\n",
      "50000/50000 [==============================] - 4s 84us/step - loss: 0.5712 - acc: 0.8343 - val_loss: 1.6335 - val_acc: 0.4835\n",
      "Epoch 47/50\n",
      "50000/50000 [==============================] - 4s 84us/step - loss: 0.5546 - acc: 0.8403 - val_loss: 1.6055 - val_acc: 0.4938\n",
      "Epoch 48/50\n",
      "50000/50000 [==============================] - 4s 84us/step - loss: 0.5401 - acc: 0.8448 - val_loss: 1.6253 - val_acc: 0.4890\n",
      "Epoch 49/50\n",
      "50000/50000 [==============================] - 4s 84us/step - loss: 0.5212 - acc: 0.8532 - val_loss: 1.6421 - val_acc: 0.4910\n",
      "Epoch 50/50\n",
      "50000/50000 [==============================] - 4s 84us/step - loss: 0.5080 - acc: 0.8575 - val_loss: 1.6506 - val_acc: 0.4894\n"
     ]
    }
   ],
   "source": [
    "\n",
    "\n",
    "\n",
    "results = {}\n",
    "\"\"\"Code Here\n",
    "撰寫你的訓練流程並將結果用 dictionary 紀錄\n",
    "\"\"\"\n",
    "\n",
    "\n",
    "model = build_mlp(input_shape=x_train.shape[1:])\n",
    "model.summary()\n",
    "optimizer = keras.optimizers.SGD(lr=LEARNING_RATE, nesterov=True, momentum=MOMENTUM)\n",
    "model.compile(loss=\"categorical_crossentropy\", metrics=[\"accuracy\"], optimizer=optimizer)\n",
    "\n",
    "model.fit(x_train, y_train, \n",
    "          epochs=EPOCHS, \n",
    "          batch_size=BATCH_SIZE, \n",
    "          validation_data=(x_test, y_test), \n",
    "          shuffle=True,\n",
    "          callbacks=[model_ckpt]\n",
    "         )\n",
    "\n",
    "# Collect results\n",
    "train_loss = model.history.history[\"loss\"]\n",
    "valid_loss = model.history.history[\"val_loss\"]\n",
    "train_acc = model.history.history[\"acc\"]\n",
    "valid_acc = model.history.history[\"val_acc\"]\n",
    "\n"
   ]
  },
  {
   "cell_type": "code",
   "execution_count": 12,
   "metadata": {
    "scrolled": true
   },
   "outputs": [
    {
     "data": {
      "image/png": "[encoded data removed]",
      "text/plain": [
       "<Figure size 432x288 with 1 Axes>"
      ]
     },
     "metadata": {
      "needs_background": "light"
     },
     "output_type": "display_data"
    },
    {
     "data": {
      "image/png": "[encoded data removed]",
      "text/plain": [
       "<Figure size 432x288 with 1 Axes>"
      ]
     },
     "metadata": {
      "needs_background": "light"
     },
     "output_type": "display_data"
    }
   ],
   "source": [
    "import matplotlib.pyplot as plt\n",
    "%matplotlib inline\n",
    "\n",
    "plt.plot(range(len(train_loss)), train_loss, label=\"train loss\")\n",
    "plt.plot(range(len(valid_loss)), valid_loss, label=\"valid loss\")\n",
    "\n",
    "plt.legend()\n",
    "plt.title(\"Loss\")\n",
    "plt.show()\n",
    "\n",
    "plt.plot(range(len(train_acc)), train_acc, label=\"train accuracy\")\n",
    "plt.plot(range(len(valid_acc)), valid_acc, label=\"valid accuracy\")\n",
    "\n",
    "plt.legend()\n",
    "plt.title(\"Accuracy\")\n",
    "plt.show()"
   ]
  },
  {
   "cell_type": "code",
   "execution_count": 15,
   "metadata": {},
   "outputs": [
    {
     "name": "stdout",
     "output_type": "stream",
     "text": [
      "10000/10000 [==============================] - 1s 64us/step\n"
     ]
    }
   ],
   "source": [
    "model = build_mlp(input_shape=x_train.shape[1:])\n",
    "optimizer = keras.optimizers.SGD(lr=LEARNING_RATE, nesterov=True, momentum=MOMENTUM)\n",
    "model.compile(loss=\"categorical_crossentropy\", metrics=[\"accuracy\"], optimizer=optimizer)\n",
    "model.load_weights(\"./tmp666.h5\")\n",
    "loss_loadback, acc_loadback= model.evaluate(x_test, y_test)\n",
    "loss_loadbacks = loss_loadback\n",
    "acc_loadbacks = acc_loadback"
   ]
  },
  {
   "cell_type": "code",
   "execution_count": 16,
   "metadata": {},
   "outputs": [
    {
     "data": {
      "image/png": "[encoded data removed]",
      "text/plain": [
       "<Figure size 432x288 with 1 Axes>"
      ]
     },
     "metadata": {
      "needs_background": "light"
     },
     "output_type": "display_data"
    },
    {
     "data": {
      "image/png": "[encoded data removed]",
      "text/plain": [
       "<Figure size 432x288 with 1 Axes>"
      ]
     },
     "metadata": {
      "needs_background": "light"
     },
     "output_type": "display_data"
    }
   ],
   "source": [
    "import matplotlib.pyplot as plt\n",
    "%matplotlib inline\n",
    "\n",
    "plt.plot(range(len(train_loss)), train_loss, label=\"train loss\")\n",
    "plt.plot(range(len(valid_loss)), valid_loss, label=\"valid loss\")\n",
    "plt.hlines(y=loss_loadback, xmin=0, xmax=len(train_loss), colors='r', linestyles='--')\n",
    "plt.legend()\n",
    "plt.title(\"Loss\")\n",
    "plt.show()\n",
    "\n",
    "plt.plot(range(len(train_acc)), train_acc, label=\"train accuracy\")\n",
    "plt.plot(range(len(valid_acc)), valid_acc, label=\"valid accuracy\")\n",
    "plt.hlines(y=acc_loadback, xmin=0, xmax=len(train_loss), colors='r', linestyles='--')\n",
    "plt.legend()\n",
    "plt.title(\"Accuracy\")\n",
    "plt.show()"
   ]
  },
  {
   "cell_type": "code",
   "execution_count": null,
   "metadata": {},
   "outputs": [],
   "source": []
  }
 ],
 "metadata": {
  "kernelspec": {
   "display_name": "Python 3",
   "language": "python",
   "name": "python3"
  },
  "language_info": {
   "codemirror_mode": {
    "name": "ipython",
    "version": 3
   },
   "file_extension": ".py",
   "mimetype": "text/x-python",
   "name": "python",
   "nbconvert_exporter": "python",
   "pygments_lexer": "ipython3",
   "version": "3.7.3"
  }
 },
 "nbformat": 4,
 "nbformat_minor": 2
}
