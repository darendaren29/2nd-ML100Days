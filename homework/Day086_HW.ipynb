{
 "cells": [
  {
   "cell_type": "markdown",
   "metadata": {},
   "source": [
    "## Work\n",
    "1. 試比較 save_best_only 與否的差異\n",
    "2. 請僅存入將 save_weights_only 設定為 True, 並嘗試 reset ipynb 並將模型與權重重新建回並預測 x_test"
   ]
  },
  {
   "cell_type": "code",
   "execution_count": 1,
   "metadata": {},
   "outputs": [
    {
     "name": "stderr",
     "output_type": "stream",
     "text": [
      "Using TensorFlow backend.\n"
     ]
    }
   ],
   "source": [
    "import os\n",
    "import keras\n",
    "\n",
    "# Disable GPU\n",
    "os.environ[\"CUDA_VISIBLE_DEVICES\"] = \"None\""
   ]
  },
  {
   "cell_type": "code",
   "execution_count": 2,
   "metadata": {},
   "outputs": [],
   "source": [
    "train, test = keras.datasets.cifar10.load_data()"
   ]
  },
  {
   "cell_type": "code",
   "execution_count": 3,
   "metadata": {},
   "outputs": [],
   "source": [
    "## 資料前處理\n",
    "def preproc_x(x, flatten=True):\n",
    "    x = x / 255.\n",
    "    if flatten:\n",
    "        x = x.reshape((len(x), -1))\n",
    "    return x\n",
    "\n",
    "def preproc_y(y, num_classes=10):\n",
    "    if y.shape[-1] == 1:\n",
    "        y = keras.utils.to_categorical(y, num_classes)\n",
    "    return y    "
   ]
  },
  {
   "cell_type": "code",
   "execution_count": 4,
   "metadata": {},
   "outputs": [],
   "source": [
    "x_train, y_train = train\n",
    "x_test, y_test = test\n",
    "\n",
    "# Preproc the inputs\n",
    "x_train = preproc_x(x_train)\n",
    "x_test = preproc_x(x_test)\n",
    "\n",
    "# Preprc the outputs\n",
    "y_train = preproc_y(y_train)\n",
    "y_test = preproc_y(y_test)"
   ]
  },
  {
   "cell_type": "code",
   "execution_count": 5,
   "metadata": {},
   "outputs": [],
   "source": [
    "from keras.layers import BatchNormalization\n",
    "\n",
    "def build_mlp(input_shape, output_units=10, num_neurons=[512, 256, 128]):\n",
    "    \"\"\"Code Here\n",
    "    建立你的神經網路\n",
    "    \"\"\"\n",
    "    input_layer = keras.layers.Input(input_shape)\n",
    "    \n",
    "    for i, n_units in enumerate(num_neurons):\n",
    "        if i == 0:\n",
    "            x = keras.layers.Dense(units=n_units, \n",
    "                                   activation=\"relu\", \n",
    "                                   name=\"hidden_layer\"+str(i+1))(input_layer)\n",
    "            x = BatchNormalization()(x)\n",
    "        else:\n",
    "            x = keras.layers.Dense(units=n_units, \n",
    "                                   activation=\"relu\", \n",
    "                                   name=\"hidden_layer\"+str(i+1))(x)\n",
    "            x = BatchNormalization()(x)\n",
    "    \n",
    "    out = keras.layers.Dense(units=output_units, activation=\"softmax\", name=\"output\")(x)\n",
    "    \n",
    "    model = keras.models.Model(inputs=[input_layer], outputs=[out])\n",
    "    return model"
   ]
  },
  {
   "cell_type": "code",
   "execution_count": 6,
   "metadata": {},
   "outputs": [],
   "source": [
    "\"\"\"Code Here\n",
    "設定超參數\n",
    "\"\"\"\n",
    "## 超參數設定\n",
    "LEARNING_RATE = 1e-3\n",
    "EPOCHS = 50\n",
    "BATCH_SIZE = 1024\n",
    "MOMENTUM = 0.95"
   ]
  },
  {
   "cell_type": "code",
   "execution_count": 7,
   "metadata": {},
   "outputs": [],
   "source": [
    "# 載入 Callbacks\n",
    "\"\"\"Code Here\n",
    "設定 callbacks: model checkpoint\n",
    "\"\"\"\n",
    "\n",
    "from keras.callbacks import ModelCheckpoint\n",
    "\n",
    "model_ckpt = ModelCheckpoint(filepath=\"./tmp666.h5\", \n",
    "                             monitor=\"val_loss\", \n",
    "                             save_best_only=True)"
   ]
  },
  {
   "cell_type": "code",
   "execution_count": 8,
   "metadata": {},
   "outputs": [
    {
     "name": "stdout",
     "output_type": "stream",
     "text": [
      "WARNING:tensorflow:From C:\\ProgramData\\Anaconda3\\lib\\site-packages\\tensorflow\\python\\framework\\op_def_library.py:263: colocate_with (from tensorflow.python.framework.ops) is deprecated and will be removed in a future version.\n",
      "Instructions for updating:\n",
      "Colocations handled automatically by placer.\n",
      "_________________________________________________________________\n",
      "Layer (type)                 Output Shape              Param #   \n",
      "=================================================================\n",
      "input_1 (InputLayer)         (None, 3072)              0         \n",
      "_________________________________________________________________\n",
      "hidden_layer1 (Dense)        (None, 512)               1573376   \n",
      "_________________________________________________________________\n",
      "batch_normalization_1 (Batch (None, 512)               2048      \n",
      "_________________________________________________________________\n",
      "hidden_layer2 (Dense)        (None, 256)               131328    \n",
      "_________________________________________________________________\n",
      "batch_normalization_2 (Batch (None, 256)               1024      \n",
      "_________________________________________________________________\n",
      "hidden_layer3 (Dense)        (None, 128)               32896     \n",
      "_________________________________________________________________\n",
      "batch_normalization_3 (Batch (None, 128)               512       \n",
      "_________________________________________________________________\n",
      "output (Dense)               (None, 10)                1290      \n",
      "=================================================================\n",
      "Total params: 1,742,474\n",
      "Trainable params: 1,740,682\n",
      "Non-trainable params: 1,792\n",
      "_________________________________________________________________\n",
      "WARNING:tensorflow:From C:\\ProgramData\\Anaconda3\\lib\\site-packages\\tensorflow\\python\\ops\\math_ops.py:3066: to_int32 (from tensorflow.python.ops.math_ops) is deprecated and will be removed in a future version.\n",
      "Instructions for updating:\n",
      "Use tf.cast instead.\n",
      "Train on 50000 samples, validate on 10000 samples\n",
      "Epoch 1/50\n",
      "50000/50000 [==============================] - 5s 95us/step - loss: 2.1980 - acc: 0.2702 - val_loss: 2.1198 - val_acc: 0.3314\n",
      "Epoch 2/50\n",
      "50000/50000 [==============================] - 4s 84us/step - loss: 1.7446 - acc: 0.3948 - val_loss: 1.8271 - val_acc: 0.3807\n",
      "Epoch 3/50\n",
      "50000/50000 [==============================] - 4s 84us/step - loss: 1.6198 - acc: 0.4354 - val_loss: 1.7053 - val_acc: 0.4096\n",
      "Epoch 4/50\n",
      "50000/50000 [==============================] - 4s 80us/step - loss: 1.5487 - acc: 0.4597 - val_loss: 1.6226 - val_acc: 0.4344\n",
      "Epoch 5/50\n",
      "50000/50000 [==============================] - 4s 81us/step - loss: 1.4944 - acc: 0.4799 - val_loss: 1.6031 - val_acc: 0.4428\n",
      "Epoch 6/50\n",
      "50000/50000 [==============================] - 4s 81us/step - loss: 1.4507 - acc: 0.4966 - val_loss: 1.5691 - val_acc: 0.4513\n",
      "Epoch 7/50\n",
      "50000/50000 [==============================] - 4s 89us/step - loss: 1.4121 - acc: 0.5094 - val_loss: 1.5460 - val_acc: 0.4605\n",
      "Epoch 8/50\n",
      "50000/50000 [==============================] - 5s 92us/step - loss: 1.3776 - acc: 0.5224 - val_loss: 1.5442 - val_acc: 0.4635\n",
      "Epoch 9/50\n",
      "50000/50000 [==============================] - 4s 84us/step - loss: 1.3445 - acc: 0.5347 - val_loss: 1.5156 - val_acc: 0.4700\n",
      "Epoch 10/50\n",
      "50000/50000 [==============================] - 5s 94us/step - loss: 1.3159 - acc: 0.5456 - val_loss: 1.5068 - val_acc: 0.4726\n",
      "Epoch 11/50\n",
      "50000/50000 [==============================] - 5s 97us/step - loss: 1.2875 - acc: 0.5552 - val_loss: 1.4984 - val_acc: 0.4751\n",
      "Epoch 12/50\n",
      "50000/50000 [==============================] - 4s 86us/step - loss: 1.2598 - acc: 0.5651 - val_loss: 1.4835 - val_acc: 0.4757\n",
      "Epoch 13/50\n",
      "50000/50000 [==============================] - 4s 82us/step - loss: 1.2330 - acc: 0.5751 - val_loss: 1.4798 - val_acc: 0.4801\n",
      "Epoch 14/50\n",
      "50000/50000 [==============================] - 4s 82us/step - loss: 1.2083 - acc: 0.5838 - val_loss: 1.4810 - val_acc: 0.4782\n",
      "Epoch 15/50\n",
      "50000/50000 [==============================] - 4s 89us/step - loss: 1.1844 - acc: 0.5935 - val_loss: 1.4748 - val_acc: 0.4787\n",
      "Epoch 16/50\n",
      "50000/50000 [==============================] - 4s 86us/step - loss: 1.1610 - acc: 0.6022 - val_loss: 1.4749 - val_acc: 0.4784\n",
      "Epoch 17/50\n",
      "50000/50000 [==============================] - 5s 93us/step - loss: 1.1383 - acc: 0.6113 - val_loss: 1.4652 - val_acc: 0.4885\n",
      "Epoch 18/50\n",
      "50000/50000 [==============================] - 6s 112us/step - loss: 1.1152 - acc: 0.6195 - val_loss: 1.4561 - val_acc: 0.4882\n",
      "Epoch 19/50\n",
      "50000/50000 [==============================] - 5s 106us/step - loss: 1.0907 - acc: 0.6300 - val_loss: 1.4662 - val_acc: 0.4892\n",
      "Epoch 20/50\n",
      "50000/50000 [==============================] - 4s 88us/step - loss: 1.0706 - acc: 0.6364 - val_loss: 1.4691 - val_acc: 0.4900\n",
      "Epoch 21/50\n",
      "50000/50000 [==============================] - 4s 89us/step - loss: 1.0471 - acc: 0.6469 - val_loss: 1.4640 - val_acc: 0.4906\n",
      "Epoch 22/50\n",
      "50000/50000 [==============================] - 4s 84us/step - loss: 1.0252 - acc: 0.6536 - val_loss: 1.4706 - val_acc: 0.4929\n",
      "Epoch 23/50\n",
      "50000/50000 [==============================] - 4s 84us/step - loss: 1.0041 - acc: 0.6620 - val_loss: 1.4633 - val_acc: 0.4879\n",
      "Epoch 24/50\n",
      "50000/50000 [==============================] - 4s 83us/step - loss: 0.9852 - acc: 0.6695 - val_loss: 1.4582 - val_acc: 0.4944\n",
      "Epoch 25/50\n",
      "50000/50000 [==============================] - 4s 84us/step - loss: 0.9634 - acc: 0.6772 - val_loss: 1.4672 - val_acc: 0.4926\n",
      "Epoch 26/50\n",
      "50000/50000 [==============================] - 5s 92us/step - loss: 0.9420 - acc: 0.6857 - val_loss: 1.4715 - val_acc: 0.4940\n",
      "Epoch 27/50\n",
      "50000/50000 [==============================] - 5s 109us/step - loss: 0.9218 - acc: 0.6954 - val_loss: 1.4777 - val_acc: 0.4968\n",
      "Epoch 28/50\n",
      "50000/50000 [==============================] - 6s 115us/step - loss: 0.9019 - acc: 0.7015 - val_loss: 1.4786 - val_acc: 0.4953\n",
      "Epoch 29/50\n",
      "50000/50000 [==============================] - 5s 105us/step - loss: 0.8789 - acc: 0.7106 - val_loss: 1.4823 - val_acc: 0.4960\n",
      "Epoch 30/50\n",
      "50000/50000 [==============================] - 4s 89us/step - loss: 0.8587 - acc: 0.7167 - val_loss: 1.4845 - val_acc: 0.4948\n",
      "Epoch 31/50\n",
      "50000/50000 [==============================] - 5s 93us/step - loss: 0.8407 - acc: 0.7245 - val_loss: 1.4882 - val_acc: 0.4991\n",
      "Epoch 32/50\n",
      "50000/50000 [==============================] - 4s 88us/step - loss: 0.8202 - acc: 0.7335 - val_loss: 1.4964 - val_acc: 0.4974\n",
      "Epoch 33/50\n",
      "50000/50000 [==============================] - 4s 88us/step - loss: 0.8009 - acc: 0.7409 - val_loss: 1.5188 - val_acc: 0.4893\n",
      "Epoch 34/50\n",
      "50000/50000 [==============================] - 4s 86us/step - loss: 0.7817 - acc: 0.7471 - val_loss: 1.5131 - val_acc: 0.4933\n",
      "Epoch 35/50\n",
      "50000/50000 [==============================] - 4s 84us/step - loss: 0.7635 - acc: 0.7565 - val_loss: 1.5143 - val_acc: 0.4963\n",
      "Epoch 36/50\n",
      "50000/50000 [==============================] - 4s 84us/step - loss: 0.7427 - acc: 0.7635 - val_loss: 1.5478 - val_acc: 0.4912\n",
      "Epoch 37/50\n",
      "50000/50000 [==============================] - 4s 84us/step - loss: 0.7237 - acc: 0.7717 - val_loss: 1.5510 - val_acc: 0.4874\n",
      "Epoch 38/50\n",
      "50000/50000 [==============================] - 5s 93us/step - loss: 0.7045 - acc: 0.7782 - val_loss: 1.5407 - val_acc: 0.4994\n",
      "Epoch 39/50\n",
      "50000/50000 [==============================] - 4s 88us/step - loss: 0.6851 - acc: 0.7857 - val_loss: 1.5418 - val_acc: 0.5002\n",
      "Epoch 40/50\n",
      "50000/50000 [==============================] - 4s 86us/step - loss: 0.6679 - acc: 0.7929 - val_loss: 1.5669 - val_acc: 0.4953\n",
      "Epoch 41/50\n",
      "50000/50000 [==============================] - 5s 93us/step - loss: 0.6493 - acc: 0.8005 - val_loss: 1.5724 - val_acc: 0.4921\n",
      "Epoch 42/50\n",
      "50000/50000 [==============================] - 5s 97us/step - loss: 0.6314 - acc: 0.8079 - val_loss: 1.5896 - val_acc: 0.4911\n",
      "Epoch 43/50\n",
      "50000/50000 [==============================] - 5s 99us/step - loss: 0.6121 - acc: 0.8157 - val_loss: 1.5963 - val_acc: 0.4883\n",
      "Epoch 44/50\n",
      "50000/50000 [==============================] - 5s 91us/step - loss: 0.5945 - acc: 0.8223 - val_loss: 1.6045 - val_acc: 0.4964\n",
      "Epoch 45/50\n",
      "50000/50000 [==============================] - 5s 93us/step - loss: 0.5756 - acc: 0.8299 - val_loss: 1.6075 - val_acc: 0.4911\n"
     ]
    },
    {
     "name": "stdout",
     "output_type": "stream",
     "text": [
      "Epoch 46/50\n",
      "50000/50000 [==============================] - 5s 92us/step - loss: 0.5583 - acc: 0.8348 - val_loss: 1.6217 - val_acc: 0.4938\n",
      "Epoch 47/50\n",
      "50000/50000 [==============================] - 4s 86us/step - loss: 0.5415 - acc: 0.8429 - val_loss: 1.6361 - val_acc: 0.4932\n",
      "Epoch 48/50\n",
      "50000/50000 [==============================] - 5s 91us/step - loss: 0.5255 - acc: 0.8491 - val_loss: 1.6513 - val_acc: 0.4869\n",
      "Epoch 49/50\n",
      "50000/50000 [==============================] - 5s 96us/step - loss: 0.5081 - acc: 0.8562 - val_loss: 1.6792 - val_acc: 0.4868\n",
      "Epoch 50/50\n",
      "50000/50000 [==============================] - 4s 87us/step - loss: 0.4926 - acc: 0.8615 - val_loss: 1.6663 - val_acc: 0.4965\n"
     ]
    },
    {
     "ename": "AttributeError",
     "evalue": "'NoneType' object has no attribute 'evaluate'",
     "output_type": "error",
     "traceback": [
      "\u001b[1;31m---------------------------------------------------------------------------\u001b[0m",
      "\u001b[1;31mAttributeError\u001b[0m                            Traceback (most recent call last)",
      "\u001b[1;32m<ipython-input-8-f7346fb54949>\u001b[0m in \u001b[0;36m<module>\u001b[1;34m\u001b[0m\n\u001b[0;32m     27\u001b[0m \u001b[0mvalid_acc\u001b[0m \u001b[1;33m=\u001b[0m \u001b[0mmodel\u001b[0m\u001b[1;33m.\u001b[0m\u001b[0mhistory\u001b[0m\u001b[1;33m.\u001b[0m\u001b[0mhistory\u001b[0m\u001b[1;33m[\u001b[0m\u001b[1;34m\"val_acc\"\u001b[0m\u001b[1;33m]\u001b[0m\u001b[1;33m\u001b[0m\u001b[1;33m\u001b[0m\u001b[0m\n\u001b[0;32m     28\u001b[0m \u001b[0mmodel\u001b[0m \u001b[1;33m=\u001b[0m \u001b[0mmodel\u001b[0m\u001b[1;33m.\u001b[0m\u001b[0mload_weights\u001b[0m\u001b[1;33m(\u001b[0m\u001b[1;34m\"./tmp666.h5\"\u001b[0m\u001b[1;33m)\u001b[0m\u001b[1;33m\u001b[0m\u001b[1;33m\u001b[0m\u001b[0m\n\u001b[1;32m---> 29\u001b[1;33m \u001b[0mloss_loadback\u001b[0m\u001b[1;33m,\u001b[0m \u001b[0macc_loadback\u001b[0m \u001b[1;33m=\u001b[0m \u001b[0mmodel\u001b[0m\u001b[1;33m.\u001b[0m\u001b[0mevaluate\u001b[0m\u001b[1;33m(\u001b[0m\u001b[0mx_test\u001b[0m\u001b[1;33m,\u001b[0m \u001b[0my_test\u001b[0m\u001b[1;33m)\u001b[0m\u001b[1;33m\u001b[0m\u001b[1;33m\u001b[0m\u001b[0m\n\u001b[0m",
      "\u001b[1;31mAttributeError\u001b[0m: 'NoneType' object has no attribute 'evaluate'"
     ]
    }
   ],
   "source": [
    "\n",
    "\n",
    "\n",
    "results = {}\n",
    "\"\"\"Code Here\n",
    "撰寫你的訓練流程並將結果用 dictionary 紀錄\n",
    "\"\"\"\n",
    "\n",
    "\n",
    "model = build_mlp(input_shape=x_train.shape[1:])\n",
    "model.summary()\n",
    "optimizer = keras.optimizers.SGD(lr=LEARNING_RATE, nesterov=True, momentum=MOMENTUM)\n",
    "model.compile(loss=\"categorical_crossentropy\", metrics=[\"accuracy\"], optimizer=optimizer)\n",
    "\n",
    "model.fit(x_train, y_train, \n",
    "          epochs=EPOCHS, \n",
    "          batch_size=BATCH_SIZE, \n",
    "          validation_data=(x_test, y_test), \n",
    "          shuffle=True,\n",
    "          callbacks=[model_ckpt]\n",
    "         )\n",
    "\n",
    "# Collect results\n",
    "train_loss = model.history.history[\"loss\"]\n",
    "valid_loss = model.history.history[\"val_loss\"]\n",
    "train_acc = model.history.history[\"acc\"]\n",
    "valid_acc = model.history.history[\"val_acc\"]\n",
    "model = model.load_weights(\"./tmp666.h5\")\n",
    "loss_loadback, acc_loadback = model.evaluate(x_test, y_test)\n"
   ]
  },
  {
   "cell_type": "code",
   "execution_count": 9,
   "metadata": {
    "scrolled": true
   },
   "outputs": [
    {
     "ename": "NameError",
     "evalue": "name 'loss_loadback' is not defined",
     "output_type": "error",
     "traceback": [
      "\u001b[1;31m---------------------------------------------------------------------------\u001b[0m",
      "\u001b[1;31mNameError\u001b[0m                                 Traceback (most recent call last)",
      "\u001b[1;32m<ipython-input-9-701a7e510d28>\u001b[0m in \u001b[0;36m<module>\u001b[1;34m\u001b[0m\n\u001b[0;32m      9\u001b[0m \u001b[0mplt\u001b[0m\u001b[1;33m.\u001b[0m\u001b[0mplot\u001b[0m\u001b[1;33m(\u001b[0m\u001b[0mrange\u001b[0m\u001b[1;33m(\u001b[0m\u001b[0mlen\u001b[0m\u001b[1;33m(\u001b[0m\u001b[0mtrain_loss\u001b[0m\u001b[1;33m)\u001b[0m\u001b[1;33m)\u001b[0m\u001b[1;33m,\u001b[0m \u001b[0mtrain_loss\u001b[0m\u001b[1;33m,\u001b[0m \u001b[0mlabel\u001b[0m\u001b[1;33m=\u001b[0m\u001b[1;34m\"train loss\"\u001b[0m\u001b[1;33m)\u001b[0m\u001b[1;33m\u001b[0m\u001b[1;33m\u001b[0m\u001b[0m\n\u001b[0;32m     10\u001b[0m \u001b[0mplt\u001b[0m\u001b[1;33m.\u001b[0m\u001b[0mplot\u001b[0m\u001b[1;33m(\u001b[0m\u001b[0mrange\u001b[0m\u001b[1;33m(\u001b[0m\u001b[0mlen\u001b[0m\u001b[1;33m(\u001b[0m\u001b[0mvalid_loss\u001b[0m\u001b[1;33m)\u001b[0m\u001b[1;33m)\u001b[0m\u001b[1;33m,\u001b[0m \u001b[0mvalid_loss\u001b[0m\u001b[1;33m,\u001b[0m \u001b[0mlabel\u001b[0m\u001b[1;33m=\u001b[0m\u001b[1;34m\"valid loss\"\u001b[0m\u001b[1;33m)\u001b[0m\u001b[1;33m\u001b[0m\u001b[1;33m\u001b[0m\u001b[0m\n\u001b[1;32m---> 11\u001b[1;33m \u001b[0mplt\u001b[0m\u001b[1;33m.\u001b[0m\u001b[0mhlines\u001b[0m\u001b[1;33m(\u001b[0m\u001b[0my\u001b[0m\u001b[1;33m=\u001b[0m\u001b[0mloss_loadback\u001b[0m\u001b[1;33m,\u001b[0m \u001b[0mxmin\u001b[0m\u001b[1;33m=\u001b[0m\u001b[1;36m0\u001b[0m\u001b[1;33m,\u001b[0m \u001b[0mxmax\u001b[0m\u001b[1;33m=\u001b[0m\u001b[0mlen\u001b[0m\u001b[1;33m(\u001b[0m\u001b[0mtrain_loss\u001b[0m\u001b[1;33m)\u001b[0m\u001b[1;33m,\u001b[0m \u001b[0mcolors\u001b[0m\u001b[1;33m=\u001b[0m\u001b[1;34m'r'\u001b[0m\u001b[1;33m,\u001b[0m \u001b[0mlinestyles\u001b[0m\u001b[1;33m=\u001b[0m\u001b[1;34m'--'\u001b[0m\u001b[1;33m)\u001b[0m\u001b[1;33m\u001b[0m\u001b[1;33m\u001b[0m\u001b[0m\n\u001b[0m\u001b[0;32m     12\u001b[0m \u001b[0mplt\u001b[0m\u001b[1;33m.\u001b[0m\u001b[0mlegend\u001b[0m\u001b[1;33m(\u001b[0m\u001b[1;33m)\u001b[0m\u001b[1;33m\u001b[0m\u001b[1;33m\u001b[0m\u001b[0m\n\u001b[0;32m     13\u001b[0m \u001b[0mplt\u001b[0m\u001b[1;33m.\u001b[0m\u001b[0mtitle\u001b[0m\u001b[1;33m(\u001b[0m\u001b[1;34m\"Loss\"\u001b[0m\u001b[1;33m)\u001b[0m\u001b[1;33m\u001b[0m\u001b[1;33m\u001b[0m\u001b[0m\n",
      "\u001b[1;31mNameError\u001b[0m: name 'loss_loadback' is not defined"
     ]
    },
    {
     "data": {
      "image/png": "[encoded data removed]",
      "text/plain": [
       "<Figure size 432x288 with 1 Axes>"
      ]
     },
     "metadata": {
      "needs_background": "light"
     },
     "output_type": "display_data"
    }
   ],
   "source": [
    "import matplotlib.pyplot as plt\n",
    "%matplotlib inline\n",
    "\"\"\"Code Here\n",
    "將結果繪出\n",
    "\"\"\"\n",
    "import matplotlib.pyplot as plt\n",
    "%matplotlib inline\n",
    "\n",
    "plt.plot(range(len(train_loss)), train_loss, label=\"train loss\")\n",
    "plt.plot(range(len(valid_loss)), valid_loss, label=\"valid loss\")\n",
    "plt.hlines(y=loss_loadback, xmin=0, xmax=len(train_loss), colors='r', linestyles='--')\n",
    "plt.legend()\n",
    "plt.title(\"Loss\")\n",
    "plt.show()\n",
    "\n",
    "plt.plot(range(len(train_acc)), train_acc, label=\"train accuracy\")\n",
    "plt.plot(range(len(valid_acc)), valid_acc, label=\"valid accuracy\")\n",
    "plt.hlines(y=acc_loadback, xmin=0, xmax=len(train_loss), colors='r', linestyles='--')\n",
    "plt.legend()\n",
    "plt.title(\"Accuracy\")\n",
    "plt.show()"
   ]
  },
  {
   "cell_type": "code",
   "execution_count": null,
   "metadata": {},
   "outputs": [],
   "source": []
  }
 ],
 "metadata": {
  "kernelspec": {
   "display_name": "Python 3",
   "language": "python",
   "name": "python3"
  },
  "language_info": {
   "codemirror_mode": {
    "name": "ipython",
    "version": 3
   },
   "file_extension": ".py",
   "mimetype": "text/x-python",
   "name": "python",
   "nbconvert_exporter": "python",
   "pygments_lexer": "ipython3",
   "version": "3.7.3"
  }
 },
 "nbformat": 4,
 "nbformat_minor": 2
}
