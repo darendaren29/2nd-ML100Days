{
 "cells": [
  {
   "cell_type": "markdown",
   "metadata": {},
   "source": [
    "## Work\n",
    "1. 請嘗試將 preproc_x 替換成以每筆資料的 min/max 進行標準化至 -1 ~ 1 間，再進行訓練\n",
    "2. 請嘗試將 mlp 疊更深 (e.g 5~10 層)，進行訓練後觀察 learning curve 的走勢\n",
    "3. (optional) 請改用 GPU 進行訓練 (如果你有 GPU 的話)，比較使用 CPU 與 GPU 的訓練速度"
   ]
  },
  {
   "cell_type": "code",
   "execution_count": 1,
   "metadata": {},
   "outputs": [
    {
     "name": "stdout",
     "output_type": "stream",
     "text": [
      "Sat Aug 10 17:37:54 2019       \n",
      "+-----------------------------------------------------------------------------+\n",
      "| NVIDIA-SMI 431.60       Driver Version: 431.60       CUDA Version: 10.1     |\n",
      "|-------------------------------+----------------------+----------------------+\n",
      "| GPU  Name            TCC/WDDM | Bus-Id        Disp.A | Volatile Uncorr. ECC |\n",
      "| Fan  Temp  Perf  Pwr:Usage/Cap|         Memory-Usage | GPU-Util  Compute M. |\n",
      "|===============================+======================+======================|\n",
      "|   0  GeForce RTX 2060   WDDM  | 00000000:01:00.0 Off |                  N/A |\n",
      "| N/A   52C    P8     2W /  N/A |   5002MiB /  6144MiB |      0%      Default |\n",
      "+-------------------------------+----------------------+----------------------+\n",
      "                                                                               \n",
      "+-----------------------------------------------------------------------------+\n",
      "| Processes:                                                       GPU Memory |\n",
      "|  GPU       PID   Type   Process name                             Usage      |\n",
      "|=============================================================================|\n",
      "|    0      1644      C   C:\\ProgramData\\Anaconda3\\python.exe        N/A      |\n",
      "+-----------------------------------------------------------------------------+\n"
     ]
    }
   ],
   "source": [
    "## \n",
    "\"\"\"\n",
    "Your code here (optional)\n",
    "確認硬體資源\n",
    "\"\"\"\n",
    "!nvidia-smi"
   ]
  },
  {
   "cell_type": "code",
   "execution_count": 2,
   "metadata": {},
   "outputs": [
    {
     "name": "stderr",
     "output_type": "stream",
     "text": [
      "Using TensorFlow backend.\n"
     ]
    }
   ],
   "source": [
    "import os\n",
    "import keras\n",
    "\n",
    "# 請嘗試設定 GPU：os.environ\n",
    "os.environ[\"CUDA_VISIBLE_DEVICES\"] = \"None\""
   ]
  },
  {
   "cell_type": "code",
   "execution_count": 3,
   "metadata": {},
   "outputs": [],
   "source": [
    "train, test = keras.datasets.cifar10.load_data()"
   ]
  },
  {
   "cell_type": "code",
   "execution_count": 4,
   "metadata": {},
   "outputs": [],
   "source": [
    "## 資料前處理\n",
    "\"\"\"\n",
    "Your code here\n",
    "\"\"\"\n",
    "def preproc_x(x, flatten=True):\n",
    "    x = x / 255.\n",
    "    if flatten:\n",
    "        x = x.reshape((len(x), -1))\n",
    "    return x\n",
    "\n",
    "def preproc_y(y, num_classes=10):\n",
    "    if y.shape[-1] == 1:\n",
    "        y = keras.utils.to_categorical(y, num_classes)\n",
    "    return y"
   ]
  },
  {
   "cell_type": "code",
   "execution_count": 5,
   "metadata": {},
   "outputs": [],
   "source": [
    "x_train, y_train = train\n",
    "x_test, y_test = test\n",
    "\n",
    "# Preproc the inputs\n",
    "x_train = preproc_x(x_train)\n",
    "x_test = preproc_x(x_test)\n",
    "\n",
    "# Preprc the outputs\n",
    "y_train = preproc_y(y_train)\n",
    "y_test = preproc_y(y_test)"
   ]
  },
  {
   "cell_type": "code",
   "execution_count": 6,
   "metadata": {},
   "outputs": [
    {
     "name": "stdout",
     "output_type": "stream",
     "text": [
      "WARNING:tensorflow:From C:\\ProgramData\\Anaconda3\\lib\\site-packages\\tensorflow\\python\\framework\\op_def_library.py:263: colocate_with (from tensorflow.python.framework.ops) is deprecated and will be removed in a future version.\n",
      "Instructions for updating:\n",
      "Colocations handled automatically by placer.\n",
      "_________________________________________________________________\n",
      "Layer (type)                 Output Shape              Param #   \n",
      "=================================================================\n",
      "input_1 (InputLayer)         (None, 3072)              0         \n",
      "_________________________________________________________________\n",
      "hidden_layer1 (Dense)        (None, 512)               1573376   \n",
      "_________________________________________________________________\n",
      "hidden_layer2 (Dense)        (None, 256)               131328    \n",
      "_________________________________________________________________\n",
      "hidden_layer3 (Dense)        (None, 128)               32896     \n",
      "_________________________________________________________________\n",
      "hidden_layer4 (Dense)        (None, 64)                8256      \n",
      "_________________________________________________________________\n",
      "hidden_layer5 (Dense)        (None, 32)                2080      \n",
      "_________________________________________________________________\n",
      "hidden_layer6 (Dense)        (None, 8)                 264       \n",
      "_________________________________________________________________\n",
      "output (Dense)               (None, 10)                90        \n",
      "=================================================================\n",
      "Total params: 1,748,290\n",
      "Trainable params: 1,748,290\n",
      "Non-trainable params: 0\n",
      "_________________________________________________________________\n"
     ]
    }
   ],
   "source": [
    "\"\"\"Code Here\n",
    "建立你的神經網路\n",
    "\"\"\"\n",
    "def build_mlp(input_shape, output_units=10, num_neurons=[512, 256, 128, 64, 32, 8]):\n",
    "    input_layer = keras.layers.Input(input_shape)\n",
    "    \n",
    "    for i, n_units in enumerate(num_neurons):\n",
    "        if i == 0:\n",
    "            x = keras.layers.Dense(units=n_units, activation=\"relu\", name=\"hidden_layer\"+str(i+1))(input_layer)\n",
    "        else:\n",
    "            x = keras.layers.Dense(units=n_units, activation=\"relu\", name=\"hidden_layer\"+str(i+1))(x)\n",
    "    out = keras.layers.Dense(units=output_units, activation=\"softmax\", name=\"output\")(x)\n",
    "    \n",
    "    model = keras.models.Model(inputs=[input_layer], outputs=[out])\n",
    "    return model\n",
    "\n",
    "model=build_mlp(input_shape=x_train.shape[1:])\n",
    "model.summary()"
   ]
  },
  {
   "cell_type": "code",
   "execution_count": 7,
   "metadata": {},
   "outputs": [],
   "source": [
    "## 超參數設定\n",
    "LEARNING_RATE = 0.001\n",
    "EPOCHS = 100\n",
    "BATCH_SIZE = 256"
   ]
  },
  {
   "cell_type": "code",
   "execution_count": 8,
   "metadata": {},
   "outputs": [],
   "source": [
    "optimizer = keras.optimizers.Adam(lr=LEARNING_RATE)\n",
    "model.compile(loss=\"categorical_crossentropy\", metrics=[\"accuracy\"], optimizer=optimizer)"
   ]
  },
  {
   "cell_type": "code",
   "execution_count": 9,
   "metadata": {},
   "outputs": [
    {
     "name": "stdout",
     "output_type": "stream",
     "text": [
      "WARNING:tensorflow:From C:\\ProgramData\\Anaconda3\\lib\\site-packages\\tensorflow\\python\\ops\\math_ops.py:3066: to_int32 (from tensorflow.python.ops.math_ops) is deprecated and will be removed in a future version.\n",
      "Instructions for updating:\n",
      "Use tf.cast instead.\n",
      "Train on 50000 samples, validate on 10000 samples\n",
      "Epoch 1/100\n",
      "50000/50000 [==============================] - 7s 143us/step - loss: 2.2001 - acc: 0.1683 - val_loss: 2.0673 - val_acc: 0.2259\n",
      "Epoch 2/100\n",
      "50000/50000 [==============================] - 7s 131us/step - loss: 2.0035 - acc: 0.2427 - val_loss: 1.9268 - val_acc: 0.2735\n",
      "Epoch 3/100\n",
      "50000/50000 [==============================] - 7s 135us/step - loss: 1.8606 - acc: 0.3080 - val_loss: 1.7835 - val_acc: 0.3373\n",
      "Epoch 4/100\n",
      "50000/50000 [==============================] - 7s 139us/step - loss: 1.7766 - acc: 0.3446 - val_loss: 1.7286 - val_acc: 0.3808\n",
      "Epoch 5/100\n",
      "50000/50000 [==============================] - 7s 139us/step - loss: 1.7050 - acc: 0.3765 - val_loss: 1.7041 - val_acc: 0.3871\n",
      "Epoch 6/100\n",
      "50000/50000 [==============================] - 7s 145us/step - loss: 1.6478 - acc: 0.4015 - val_loss: 1.6734 - val_acc: 0.3912\n",
      "Epoch 7/100\n",
      "50000/50000 [==============================] - 7s 138us/step - loss: 1.5937 - acc: 0.4259 - val_loss: 1.6072 - val_acc: 0.4166\n",
      "Epoch 8/100\n",
      "50000/50000 [==============================] - 6s 128us/step - loss: 1.5534 - acc: 0.4419 - val_loss: 1.5722 - val_acc: 0.4309\n",
      "Epoch 9/100\n",
      "50000/50000 [==============================] - 6s 128us/step - loss: 1.5205 - acc: 0.4517 - val_loss: 1.5280 - val_acc: 0.4509\n",
      "Epoch 10/100\n",
      "50000/50000 [==============================] - 6s 127us/step - loss: 1.4882 - acc: 0.4650 - val_loss: 1.5140 - val_acc: 0.4576\n",
      "Epoch 11/100\n",
      "50000/50000 [==============================] - 6s 127us/step - loss: 1.4585 - acc: 0.4739 - val_loss: 1.5426 - val_acc: 0.4622\n",
      "Epoch 12/100\n",
      "50000/50000 [==============================] - 6s 128us/step - loss: 1.4311 - acc: 0.4854 - val_loss: 1.4883 - val_acc: 0.4678\n",
      "Epoch 13/100\n",
      "50000/50000 [==============================] - 6s 128us/step - loss: 1.4090 - acc: 0.4940 - val_loss: 1.4787 - val_acc: 0.4779\n",
      "Epoch 14/100\n",
      "50000/50000 [==============================] - 6s 129us/step - loss: 1.3853 - acc: 0.5036 - val_loss: 1.4718 - val_acc: 0.4791\n",
      "Epoch 15/100\n",
      "50000/50000 [==============================] - 6s 129us/step - loss: 1.3684 - acc: 0.5081 - val_loss: 1.4581 - val_acc: 0.4832\n",
      "Epoch 16/100\n",
      "50000/50000 [==============================] - 6s 129us/step - loss: 1.3456 - acc: 0.5156 - val_loss: 1.4608 - val_acc: 0.4867\n",
      "Epoch 17/100\n",
      "50000/50000 [==============================] - 6s 129us/step - loss: 1.3242 - acc: 0.5245 - val_loss: 1.4720 - val_acc: 0.4882\n",
      "Epoch 18/100\n",
      "50000/50000 [==============================] - 6s 128us/step - loss: 1.3064 - acc: 0.5320 - val_loss: 1.4449 - val_acc: 0.4992\n",
      "Epoch 19/100\n",
      "50000/50000 [==============================] - 6s 128us/step - loss: 1.2839 - acc: 0.5395 - val_loss: 1.4337 - val_acc: 0.4985 0.5\n",
      "Epoch 20/100\n",
      "50000/50000 [==============================] - 7s 134us/step - loss: 1.2721 - acc: 0.5453 - val_loss: 1.4260 - val_acc: 0.5023\n",
      "Epoch 21/100\n",
      "50000/50000 [==============================] - 6s 128us/step - loss: 1.2435 - acc: 0.5532 - val_loss: 1.4170 - val_acc: 0.5107\n",
      "Epoch 22/100\n",
      "50000/50000 [==============================] - 6s 130us/step - loss: 1.2313 - acc: 0.5579 - val_loss: 1.4430 - val_acc: 0.5008\n",
      "Epoch 23/100\n",
      "50000/50000 [==============================] - 6s 130us/step - loss: 1.2027 - acc: 0.5657 - val_loss: 1.3992 - val_acc: 0.5163\n",
      "Epoch 24/100\n",
      "50000/50000 [==============================] - 6s 128us/step - loss: 1.1864 - acc: 0.5726 - val_loss: 1.4621 - val_acc: 0.4970\n",
      "Epoch 25/100\n",
      "50000/50000 [==============================] - 6s 128us/step - loss: 1.1719 - acc: 0.5808 - val_loss: 1.4244 - val_acc: 0.5132\n",
      "Epoch 26/100\n",
      "50000/50000 [==============================] - 6s 129us/step - loss: 1.1500 - acc: 0.5862 - val_loss: 1.4986 - val_acc: 0.4965\n",
      "Epoch 27/100\n",
      "50000/50000 [==============================] - 7s 138us/step - loss: 1.1352 - acc: 0.5929 - val_loss: 1.4295 - val_acc: 0.5182\n",
      "Epoch 28/100\n",
      "50000/50000 [==============================] - 6s 128us/step - loss: 1.1140 - acc: 0.5976 - val_loss: 1.4415 - val_acc: 0.5123\n",
      "Epoch 29/100\n",
      "50000/50000 [==============================] - 6s 129us/step - loss: 1.0881 - acc: 0.6085 - val_loss: 1.4513 - val_acc: 0.5115\n",
      "Epoch 30/100\n",
      "50000/50000 [==============================] - 6s 130us/step - loss: 1.0868 - acc: 0.6075 - val_loss: 1.4943 - val_acc: 0.5097\n",
      "Epoch 31/100\n",
      "50000/50000 [==============================] - 7s 131us/step - loss: 1.0630 - acc: 0.6166 - val_loss: 1.4625 - val_acc: 0.5168\n",
      "Epoch 32/100\n",
      "50000/50000 [==============================] - 6s 130us/step - loss: 1.0392 - acc: 0.6226 - val_loss: 1.4779 - val_acc: 0.5155\n",
      "Epoch 33/100\n",
      "50000/50000 [==============================] - 6s 130us/step - loss: 1.0223 - acc: 0.6302 - val_loss: 1.4702 - val_acc: 0.5177\n",
      "Epoch 34/100\n",
      "50000/50000 [==============================] - 6s 129us/step - loss: 1.0029 - acc: 0.6376 - val_loss: 1.5099 - val_acc: 0.5192\n",
      "Epoch 35/100\n",
      "50000/50000 [==============================] - 6s 129us/step - loss: 0.9882 - acc: 0.6420 - val_loss: 1.5001 - val_acc: 0.5154\n",
      "Epoch 36/100\n",
      "50000/50000 [==============================] - 7s 130us/step - loss: 0.9791 - acc: 0.6424 - val_loss: 1.5139 - val_acc: 0.5163\n",
      "Epoch 37/100\n",
      "50000/50000 [==============================] - 6s 129us/step - loss: 0.9612 - acc: 0.6505 - val_loss: 1.5378 - val_acc: 0.5123\n",
      "Epoch 38/100\n",
      "50000/50000 [==============================] - 6s 129us/step - loss: 0.9427 - acc: 0.6584 - val_loss: 1.6133 - val_acc: 0.5043\n",
      "Epoch 39/100\n",
      "50000/50000 [==============================] - 7s 130us/step - loss: 0.9253 - acc: 0.6637 - val_loss: 1.5795 - val_acc: 0.5078\n",
      "Epoch 40/100\n",
      "50000/50000 [==============================] - 7s 132us/step - loss: 0.9052 - acc: 0.6723 - val_loss: 1.5898 - val_acc: 0.5038\n",
      "Epoch 41/100\n",
      "50000/50000 [==============================] - 6s 129us/step - loss: 0.8913 - acc: 0.6744 - val_loss: 1.6371 - val_acc: 0.5108\n",
      "Epoch 42/100\n",
      "50000/50000 [==============================] - 6s 129us/step - loss: 0.8770 - acc: 0.6827 - val_loss: 1.5982 - val_acc: 0.5144\n",
      "Epoch 43/100\n",
      "50000/50000 [==============================] - 7s 130us/step - loss: 0.8725 - acc: 0.6815 - val_loss: 1.6276 - val_acc: 0.5100\n",
      "Epoch 44/100\n",
      "50000/50000 [==============================] - 6s 130us/step - loss: 0.8438 - acc: 0.6938 - val_loss: 1.6674 - val_acc: 0.5188\n",
      "Epoch 45/100\n",
      "50000/50000 [==============================] - 6s 129us/step - loss: 0.8284 - acc: 0.6993 - val_loss: 1.6780 - val_acc: 0.5140\n",
      "Epoch 46/100\n",
      "50000/50000 [==============================] - 6s 130us/step - loss: 0.8255 - acc: 0.6992 - val_loss: 1.6964 - val_acc: 0.5120\n",
      "Epoch 47/100\n",
      "50000/50000 [==============================] - 6s 130us/step - loss: 0.8189 - acc: 0.7028 - val_loss: 1.7855 - val_acc: 0.5014\n",
      "Epoch 48/100\n",
      "50000/50000 [==============================] - 7s 131us/step - loss: 0.7995 - acc: 0.7080 - val_loss: 1.7126 - val_acc: 0.5188\n",
      "Epoch 49/100\n",
      "50000/50000 [==============================] - 6s 129us/step - loss: 0.7756 - acc: 0.7163 - val_loss: 1.7222 - val_acc: 0.5204\n",
      "Epoch 50/100\n",
      "50000/50000 [==============================] - 6s 130us/step - loss: 0.7588 - acc: 0.7227 - val_loss: 1.8328 - val_acc: 0.5103\n",
      "Epoch 51/100\n",
      "50000/50000 [==============================] - 6s 129us/step - loss: 0.7528 - acc: 0.7243 - val_loss: 1.8347 - val_acc: 0.5085\n",
      "Epoch 52/100\n",
      "50000/50000 [==============================] - 7s 131us/step - loss: 0.7395 - acc: 0.7298 - val_loss: 1.8636 - val_acc: 0.5033\n",
      "Epoch 53/100\n",
      "50000/50000 [==============================] - 6s 130us/step - loss: 0.7316 - acc: 0.7327 - val_loss: 1.8819 - val_acc: 0.5042\n",
      "Epoch 54/100\n",
      "50000/50000 [==============================] - 6s 130us/step - loss: 0.7250 - acc: 0.7356 - val_loss: 1.9041 - val_acc: 0.5000\n",
      "Epoch 55/100\n",
      "50000/50000 [==============================] - 6s 130us/step - loss: 0.7096 - acc: 0.7422 - val_loss: 1.8842 - val_acc: 0.5029\n",
      "Epoch 56/100\n",
      "50000/50000 [==============================] - 7s 130us/step - loss: 0.6943 - acc: 0.7465 - val_loss: 1.8915 - val_acc: 0.5006\n",
      "Epoch 57/100\n"
     ]
    },
    {
     "name": "stdout",
     "output_type": "stream",
     "text": [
      "50000/50000 [==============================] - 7s 130us/step - loss: 0.6776 - acc: 0.7529 - val_loss: 2.0034 - val_acc: 0.4996\n",
      "Epoch 58/100\n",
      "50000/50000 [==============================] - 6s 129us/step - loss: 0.6912 - acc: 0.7471 - val_loss: 1.9758 - val_acc: 0.4966\n",
      "Epoch 59/100\n",
      "50000/50000 [==============================] - 6s 129us/step - loss: 0.6748 - acc: 0.7522 - val_loss: 2.0206 - val_acc: 0.4987\n",
      "Epoch 60/100\n",
      "50000/50000 [==============================] - 6s 129us/step - loss: 0.6543 - acc: 0.7603 - val_loss: 2.0098 - val_acc: 0.4961\n",
      "Epoch 61/100\n",
      "50000/50000 [==============================] - 7s 130us/step - loss: 0.6529 - acc: 0.7610 - val_loss: 2.0925 - val_acc: 0.5020\n",
      "Epoch 62/100\n",
      "50000/50000 [==============================] - 6s 130us/step - loss: 0.6348 - acc: 0.7670 - val_loss: 2.0417 - val_acc: 0.5011\n",
      "Epoch 63/100\n",
      "50000/50000 [==============================] - 6s 130us/step - loss: 0.6232 - acc: 0.7720 - val_loss: 2.0785 - val_acc: 0.5093\n",
      "Epoch 64/100\n",
      "50000/50000 [==============================] - 6s 130us/step - loss: 0.6095 - acc: 0.7765 - val_loss: 2.0701 - val_acc: 0.5085\n",
      "Epoch 65/100\n",
      "50000/50000 [==============================] - 6s 130us/step - loss: 0.6112 - acc: 0.7770 - val_loss: 2.1289 - val_acc: 0.5010\n",
      "Epoch 66/100\n",
      "50000/50000 [==============================] - 7s 131us/step - loss: 0.6093 - acc: 0.7773 - val_loss: 2.1947 - val_acc: 0.4998\n",
      "Epoch 67/100\n",
      "50000/50000 [==============================] - 7s 130us/step - loss: 0.5838 - acc: 0.7868 - val_loss: 2.1667 - val_acc: 0.5044\n",
      "Epoch 68/100\n",
      "50000/50000 [==============================] - 7s 130us/step - loss: 0.5800 - acc: 0.7874 - val_loss: 2.1560 - val_acc: 0.5049\n",
      "Epoch 69/100\n",
      "50000/50000 [==============================] - 6s 129us/step - loss: 0.5716 - acc: 0.7913 - val_loss: 2.2802 - val_acc: 0.4863\n",
      "Epoch 70/100\n",
      "50000/50000 [==============================] - 6s 129us/step - loss: 0.5649 - acc: 0.7945 - val_loss: 2.2926 - val_acc: 0.4948\n",
      "Epoch 71/100\n",
      "50000/50000 [==============================] - 7s 130us/step - loss: 0.5570 - acc: 0.7964 - val_loss: 2.3163 - val_acc: 0.5016\n",
      "Epoch 72/100\n",
      "50000/50000 [==============================] - 7s 130us/step - loss: 0.5555 - acc: 0.7957 - val_loss: 2.2837 - val_acc: 0.5021\n",
      "Epoch 73/100\n",
      "50000/50000 [==============================] - 6s 130us/step - loss: 0.5515 - acc: 0.7987 - val_loss: 2.2209 - val_acc: 0.5091\n",
      "Epoch 74/100\n",
      "50000/50000 [==============================] - 7s 130us/step - loss: 0.5169 - acc: 0.8105 - val_loss: 2.3832 - val_acc: 0.4881\n",
      "Epoch 75/100\n",
      "50000/50000 [==============================] - 6s 130us/step - loss: 0.5231 - acc: 0.8095 - val_loss: 2.3758 - val_acc: 0.4965oss: 0.521\n",
      "Epoch 76/100\n",
      "50000/50000 [==============================] - 7s 130us/step - loss: 0.5124 - acc: 0.8144 - val_loss: 2.3525 - val_acc: 0.4989\n",
      "Epoch 77/100\n",
      "50000/50000 [==============================] - 7s 132us/step - loss: 0.5218 - acc: 0.8087 - val_loss: 2.3995 - val_acc: 0.5009\n",
      "Epoch 78/100\n",
      "50000/50000 [==============================] - 6s 130us/step - loss: 0.5129 - acc: 0.8133 - val_loss: 2.3761 - val_acc: 0.5076\n",
      "Epoch 79/100\n",
      "50000/50000 [==============================] - 6s 130us/step - loss: 0.5057 - acc: 0.8163 - val_loss: 2.4225 - val_acc: 0.4983\n",
      "Epoch 80/100\n",
      "50000/50000 [==============================] - 6s 129us/step - loss: 0.5131 - acc: 0.8126 - val_loss: 2.3735 - val_acc: 0.5033\n",
      "Epoch 81/100\n",
      "50000/50000 [==============================] - 6s 130us/step - loss: 0.4931 - acc: 0.8194 - val_loss: 2.5003 - val_acc: 0.4957- \n",
      "Epoch 82/100\n",
      "50000/50000 [==============================] - 6s 130us/step - loss: 0.4938 - acc: 0.8190 - val_loss: 2.4815 - val_acc: 0.5015\n",
      "Epoch 83/100\n",
      "50000/50000 [==============================] - 7s 130us/step - loss: 0.4747 - acc: 0.8277 - val_loss: 2.5354 - val_acc: 0.4986\n",
      "Epoch 84/100\n",
      "50000/50000 [==============================] - 7s 130us/step - loss: 0.4674 - acc: 0.8302 - val_loss: 2.5856 - val_acc: 0.4956\n",
      "Epoch 85/100\n",
      "50000/50000 [==============================] - 7s 130us/step - loss: 0.4774 - acc: 0.8249 - val_loss: 2.4998 - val_acc: 0.5003\n",
      "Epoch 86/100\n",
      "50000/50000 [==============================] - 7s 131us/step - loss: 0.4561 - acc: 0.8332 - val_loss: 2.6090 - val_acc: 0.4931\n",
      "Epoch 87/100\n",
      "50000/50000 [==============================] - 7s 135us/step - loss: 0.4550 - acc: 0.8321 - val_loss: 2.6294 - val_acc: 0.4969\n",
      "Epoch 88/100\n",
      "50000/50000 [==============================] - 6s 130us/step - loss: 0.4648 - acc: 0.8310 - val_loss: 2.5966 - val_acc: 0.5011\n",
      "Epoch 89/100\n",
      "50000/50000 [==============================] - 6s 130us/step - loss: 0.4283 - acc: 0.8428 - val_loss: 2.7123 - val_acc: 0.4936\n",
      "Epoch 90/100\n",
      "50000/50000 [==============================] - 7s 131us/step - loss: 0.4505 - acc: 0.8360 - val_loss: 2.6264 - val_acc: 0.4988\n",
      "Epoch 91/100\n",
      "50000/50000 [==============================] - 7s 131us/step - loss: 0.4240 - acc: 0.8448 - val_loss: 2.7197 - val_acc: 0.4871\n",
      "Epoch 92/100\n",
      "50000/50000 [==============================] - 6s 129us/step - loss: 0.4436 - acc: 0.8399 - val_loss: 2.6395 - val_acc: 0.4917\n",
      "Epoch 93/100\n",
      "50000/50000 [==============================] - 7s 130us/step - loss: 0.4172 - acc: 0.8478 - val_loss: 2.8442 - val_acc: 0.4960: 0.4170 - acc: 0.847\n",
      "Epoch 94/100\n",
      "50000/50000 [==============================] - 7s 131us/step - loss: 0.4185 - acc: 0.8479 - val_loss: 2.7816 - val_acc: 0.4958\n",
      "Epoch 95/100\n",
      "50000/50000 [==============================] - 6s 130us/step - loss: 0.4091 - acc: 0.8506 - val_loss: 2.7151 - val_acc: 0.4916\n",
      "Epoch 96/100\n",
      "50000/50000 [==============================] - 7s 130us/step - loss: 0.4187 - acc: 0.8474 - val_loss: 2.8233 - val_acc: 0.4846\n",
      "Epoch 97/100\n",
      "50000/50000 [==============================] - 7s 130us/step - loss: 0.4164 - acc: 0.8493 - val_loss: 2.7853 - val_acc: 0.4958\n",
      "Epoch 98/100\n",
      "50000/50000 [==============================] - 7s 131us/step - loss: 0.4026 - acc: 0.8539 - val_loss: 2.6907 - val_acc: 0.4933\n",
      "Epoch 99/100\n",
      "50000/50000 [==============================] - 6s 130us/step - loss: 0.4069 - acc: 0.8524 - val_loss: 2.8886 - val_acc: 0.4890\n",
      "Epoch 100/100\n",
      "50000/50000 [==============================] - 7s 131us/step - loss: 0.3931 - acc: 0.8565 - val_loss: 2.8862 - val_acc: 0.4935\n"
     ]
    },
    {
     "data": {
      "text/plain": [
       "<keras.callbacks.History at 0x23d12d1e9e8>"
      ]
     },
     "execution_count": 9,
     "metadata": {},
     "output_type": "execute_result"
    }
   ],
   "source": [
    "model.fit(x_train, y_train, \n",
    "          epochs=EPOCHS, \n",
    "          batch_size=BATCH_SIZE, \n",
    "          validation_data=(x_test, y_test), \n",
    "          shuffle=True)"
   ]
  },
  {
   "cell_type": "code",
   "execution_count": 10,
   "metadata": {},
   "outputs": [
    {
     "data": {
      "text/plain": [
       "<Figure size 640x480 with 1 Axes>"
      ]
     },
     "metadata": {},
     "output_type": "display_data"
    },
    {
     "data": {
      "text/plain": [
       "<Figure size 640x480 with 1 Axes>"
      ]
     },
     "metadata": {},
     "output_type": "display_data"
    }
   ],
   "source": [
    "import matplotlib.pyplot as plt\n",
    "\n",
    "\n",
    "train_loss = model.history.history[\"loss\"]\n",
    "valid_loss = model.history.history[\"val_loss\"]\n",
    "\n",
    "train_acc = model.history.history[\"acc\"]\n",
    "valid_acc = model.history.history[\"val_acc\"]\n",
    "\n",
    "plt.plot(range(len(train_loss)), train_loss, label=\"train loss\")\n",
    "plt.plot(range(len(valid_loss)), valid_loss, label=\"valid loss\")\n",
    "plt.legend()\n",
    "plt.title(\"Loss\")\n",
    "plt.show()\n",
    "\n",
    "plt.plot(range(len(train_acc)), train_acc, label=\"train accuracy\")\n",
    "plt.plot(range(len(valid_acc)), valid_acc, label=\"valid accuracy\")\n",
    "plt.legend()\n",
    "plt.title(\"Accuracy\")\n",
    "plt.show()"
   ]
  },
  {
   "cell_type": "code",
   "execution_count": null,
   "metadata": {},
   "outputs": [],
   "source": []
  }
 ],
 "metadata": {
  "kernelspec": {
   "display_name": "Python 3",
   "language": "python",
   "name": "python3"
  },
  "language_info": {
   "codemirror_mode": {
    "name": "ipython",
    "version": 3
   },
   "file_extension": ".py",
   "mimetype": "text/x-python",
   "name": "python",
   "nbconvert_exporter": "python",
   "pygments_lexer": "ipython3",
   "version": "3.7.3"
  }
 },
 "nbformat": 4,
 "nbformat_minor": 2
}
