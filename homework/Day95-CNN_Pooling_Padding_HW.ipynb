{
 "cells": [
  {
   "cell_type": "markdown",
   "metadata": {},
   "source": [
    "# 作業目標:\n",
    "    了解 Padding 的作法\n",
    "    \n",
    "    了解 Pooling 的作法"
   ]
  },
  {
   "cell_type": "markdown",
   "metadata": {},
   "source": [
    "# 作業重點:\n",
    "    (1) 調整Padding 的設定, 看 Pad 後的結果\n",
    "    \n",
    "    (2) 調整Pooling 的設定, 看 Poolin 後的結果"
   ]
  },
  {
   "cell_type": "code",
   "execution_count": 1,
   "metadata": {},
   "outputs": [],
   "source": [
    "import numpy as np\n",
    "import h5py\n",
    "import matplotlib.pyplot as plt\n",
    "\n",
    "# 繪圖結果直接顯示在Jupyter cell 之內\n",
    "%matplotlib inline  \n",
    "plt.rcParams['figure.figsize'] = (5.0, 4.0) #  設定繪圖板的大小\n",
    "plt.rcParams['image.interpolation'] = 'nearest'\n",
    "plt.rcParams['image.cmap'] = 'gray'\n",
    "\n",
    "# autoreload。可以讓我們不退出IPython就動態修改代碼，在執行代碼前IPython會幫我們自動重載改動的模塊\n",
    "%load_ext autoreload\n",
    "%autoreload 2\n",
    "np.random.seed(1)"
   ]
  },
  {
   "cell_type": "code",
   "execution_count": 2,
   "metadata": {},
   "outputs": [],
   "source": [
    "# GRADED FUNCTION: zero_pad\n",
    "def zero_pad(X, pad):\n",
    "    \"\"\"\n",
    "    對image X 做 zero-padding. \n",
    "    參數定義如下:\n",
    "    X -- python numpy array, 呈現維度 (m, n_H, n_W, n_C), 代表一批 m 個圖像\n",
    "         n_H: 圖高, n_W: 圖寬, n_C: color channels 數\n",
    "    pad -- 整數, 加幾圈的 zero padding.\n",
    "    Returns:\n",
    "    X_pad -- image of shape (m, n_H + 2*pad, n_W + 2*pad, n_C) 做完zero-padding 的結果\n",
    "    \"\"\"\n",
    "    \n",
    "    X_pad = np.pad(X, ((0, 0), (pad, pad), (pad, pad), (0, 0)), 'constant', constant_values=(0, 0))\n",
    "  \n",
    "    return X_pad"
   ]
  },
  {
   "cell_type": "code",
   "execution_count": 9,
   "metadata": {},
   "outputs": [
    {
     "name": "stdout",
     "output_type": "stream",
     "text": [
      "x.shape = (8, 6, 6, 4)\n",
      "x_pad.shape = (8, 8, 8, 4)\n",
      "x[1,1] = [[ 2.19069973 -1.89636092 -0.64691669  0.90148689]\n",
      " [ 2.52832571 -0.24863478  0.04366899 -0.22631424]\n",
      " [ 1.33145711 -0.28730786  0.68006984 -0.3198016 ]\n",
      " [-1.27255876  0.31354772  0.50318481  1.29322588]\n",
      " [-0.11044703 -0.61736206  0.5627611   0.24073709]\n",
      " [ 0.28066508 -0.0731127   1.16033857  0.36949272]]\n",
      "x_pad[1,1] = [[ 0.          0.          0.          0.        ]\n",
      " [ 0.52946532  0.13770121  0.07782113  0.61838026]\n",
      " [ 0.23249456  0.68255141 -0.31011677 -2.43483776]\n",
      " [ 1.0388246   2.18697965  0.44136444 -0.10015523]\n",
      " [-0.13644474 -0.11905419  0.01740941 -1.12201873]\n",
      " [-0.51709446 -0.99702683  0.24879916 -0.29664115]\n",
      " [ 0.49521132 -0.17470316  0.98633519  0.2135339 ]\n",
      " [ 0.          0.          0.          0.        ]]\n"
     ]
    },
    {
     "data": {
      "text/plain": [
       "<matplotlib.image.AxesImage at 0x23274daaf60>"
      ]
     },
     "execution_count": 9,
     "metadata": {},
     "output_type": "execute_result"
    },
    {
     "data": {
      "image/png": "[encoded data removed]",
      "text/plain": [
       "<Figure size 432x288 with 2 Axes>"
      ]
     },
     "metadata": {
      "needs_background": "light"
     },
     "output_type": "display_data"
    }
   ],
   "source": [
    "\n",
    "np.random.seed(1)\n",
    "\n",
    "x = np.random.randn(8, 6, 6, 4)\n",
    "x_pad = zero_pad(x, 1)\n",
    "\n",
    "\n",
    "print (\"x.shape =\", x.shape)\n",
    "print (\"x_pad.shape =\", x_pad.shape)\n",
    "print (\"x[1,1] =\", x[1,1])\n",
    "print (\"x_pad[1,1] =\", x_pad[1,1])\n",
    "fig, axarr = plt.subplots(1, 2)\n",
    "axarr[0].set_title('x')\n",
    "axarr[0].imshow(x[0,:,:,0])\n",
    "axarr[1].set_title('x_pad')\n",
    "axarr[1].imshow(x_pad[0,:,:,0])"
   ]
  },
  {
   "cell_type": "code",
   "execution_count": 4,
   "metadata": {},
   "outputs": [],
   "source": [
    "# GRADED FUNCTION: pool_forward\n",
    "def pool_forward(A_prev, hparameters, mode = \"max\"):\n",
    "    \"\"\"\n",
    "    設計一個前行網路的池化層\n",
    "    參數定義如下:\n",
    "    A_prev -- 輸入的numpy 陣列, 維度 (m, n_H_prev, n_W_prev, n_C_prev)\n",
    "    hparameter 超參數 --  \"f\" and \"stride\" 所形成的python 字典\n",
    "    mode -- 池化的模式: \"max\" or \"average\"\n",
    "    \n",
    "    返回:\n",
    "        A -- 輸出的池化層, 維度為 (m, n_H, n_W, n_C) 的 numpy 陣列\n",
    "        cache -- 可以應用在 backward pass pooling layer 資料, 包含 input and hparameter\n",
    "    \"\"\"\n",
    "\n",
    "    # 檢索尺寸 from the input shape\n",
    "    (m, n_H_prev, n_W_prev, n_C_prev) = A_prev.shape\n",
    " \n",
    "    # 檢索超參數 from \"hparameters\"\n",
    "    f = hparameters[\"f\"]\n",
    "    stride = hparameters[\"stride\"]\n",
    "\n",
    "    # 定義輸出的dimensions\n",
    "    n_H = int(1 + (n_H_prev - f) / stride)\n",
    "    n_W = int(1 + (n_W_prev - f) / stride)\n",
    "    n_C = n_C_prev\n",
    "\n",
    "    # 初始化輸出的 matrix A\n",
    "    A = np.zeros((m, n_H, n_W, n_C))\n",
    "\n",
    "    ### 程式起始位置  ###\n",
    "    for i in range(m): # 訓練樣本的for 迴圈\n",
    "        for h in range(n_H): # 輸出樣本的for 迴圈, 針對vertical axis\n",
    "            for w in range(n_W): #  輸出樣本的for 迴圈, 針對 horizontal axis\n",
    "                for c in range (n_C): #  輸出樣本的for 迴圈, 針對channels\n",
    "\n",
    "                     # 找出特徵圖的寬度跟高度四個點\n",
    "                    vert_start = h * stride\n",
    "                    vert_end = h * stride+ f\n",
    "                    horiz_start = w * stride\n",
    "                    horiz_end = w * stride + f\n",
    "\n",
    "                    # 定義第i個訓練示例\n",
    "                    a_prev_slice = A_prev[i, vert_start:vert_end, horiz_start:horiz_end,c]\n",
    "\n",
    "                    # 計算輸入data 的池化結果. 使用 if statment 去做分類\n",
    "                    if mode == \"max\":\n",
    "                        A[i, h, w, c] = np.max(a_prev_slice)\n",
    "                    elif mode == \"average\":\n",
    "                        A[i, h, w, c] = np.mean(a_prev_slice)\n",
    "\n",
    "                        ### 程式結束  ###\n",
    "    \n",
    "    # 儲存輸入的特徵圖跟所設定的超參數, 可以用在 pool_backward()\n",
    "    cache = (A_prev, hparameters)\n",
    "    \n",
    "    # 確認輸出的資料維度\n",
    "    assert(A.shape == (m, n_H, n_W, n_C))\n",
    "    return A, cache"
   ]
  },
  {
   "cell_type": "code",
   "execution_count": 12,
   "metadata": {},
   "outputs": [
    {
     "name": "stdout",
     "output_type": "stream",
     "text": [
      "mode = max\n",
      "A = [[[[1.74481176 1.51981682 2.18557541 2.18697965 1.46210794 1.2245077 ]\n",
      "   [2.19069973 1.6924546  1.65980218 1.96710175 2.52832571 2.10025514]]\n",
      "\n",
      "  [[2.06578332 1.93752881 1.81053491 0.92001793 2.05117344 1.9560789 ]\n",
      "   [1.55880554 1.54335911 3.03085711 2.44936865 2.13782807 1.79215821]]]\n",
      "\n",
      "\n",
      " [[[1.19783084 1.78975468 1.62091229 2.11060505 1.46089238 1.45810824]\n",
      "   [1.69380911 3.9586027  0.96653925 2.05635552 2.0546241  1.86647138]]\n",
      "\n",
      "  [[3.32107876 1.45391758 1.16143998 1.1010002  1.74643509 2.50598029]\n",
      "   [1.53653633 1.70018815 1.42361443 1.47073986 1.57546791 1.30253554]]]\n",
      "\n",
      "\n",
      " [[[1.63169151 0.91549927 1.65712464 1.41767401 1.37975819 1.70548352]\n",
      "   [1.92381543 1.81252782 1.80358898 2.42887697 2.39014596 2.29371761]]\n",
      "\n",
      "  [[1.5666862  2.02999749 1.45652739 1.79791937 1.55868825 2.36973019]\n",
      "   [1.17705226 0.34605775 1.32269399 1.98656511 2.56545278 1.6346025 ]]]\n",
      "\n",
      "\n",
      " [[[2.23027415 1.90077932 1.49640531 1.92880031 1.50452187 1.72439172]\n",
      "   [1.3798799  1.82481879 1.87230326 1.89751081 1.6234621  2.91730876]]\n",
      "\n",
      "  [[2.11382376 0.91741977 2.71194987 2.00514053 1.89716069 2.15323347]\n",
      "   [1.6389616  2.42430662 2.15035381 1.32041791 2.16793707 1.52309671]]]]\n",
      "\n",
      "mode = average\n",
      "A = [[[[ 0.24081989 -0.03456354  0.13526359 -0.08236275  0.2905161\n",
      "    -0.32263673]\n",
      "   [ 0.17696773  0.08626866  0.13106387 -0.01378686  0.19340413\n",
      "     0.22482345]]\n",
      "\n",
      "  [[-0.18922043 -0.3803778   0.03595906 -0.60508646 -0.09490416\n",
      "     0.55830094]\n",
      "   [ 0.11020453  0.13404873  0.16368971  0.45391308  0.07668984\n",
      "    -0.01591334]]]\n",
      "\n",
      "\n",
      " [[[-0.10564862  0.59172816 -0.03783426 -0.07951148 -0.54647601\n",
      "    -0.08270332]\n",
      "   [-0.19981802  0.48952014 -0.05015831  0.21057982  0.52753829\n",
      "     0.13863827]]\n",
      "\n",
      "  [[-0.14016437 -0.00633511 -0.10248616  0.18083755  0.02507452\n",
      "     0.17761792]\n",
      "   [-0.00670854  0.01448964 -0.18930344 -0.37325837  0.16078354\n",
      "    -0.06184886]]]\n",
      "\n",
      "\n",
      " [[[ 0.01006849 -0.31355451 -0.10144853  0.1647645   0.23224904\n",
      "     0.06691576]\n",
      "   [ 0.2523288  -0.05301918  0.31929729  0.02390693  0.31701584\n",
      "     0.2130071 ]]\n",
      "\n",
      "  [[-0.15487285  0.11786136 -0.00995553 -0.2298781  -0.50292189\n",
      "     0.31153137]\n",
      "   [-0.15202937 -0.21781419 -0.28198226  0.09475663  0.4620255\n",
      "    -0.14581507]]]\n",
      "\n",
      "\n",
      " [[[ 0.20759402 -0.0060783  -0.13449754  0.3098572  -0.03222181\n",
      "     0.16975381]\n",
      "   [ 0.3056484   0.03115084  0.07105509 -0.03061077  0.36579813\n",
      "     0.25414689]]\n",
      "\n",
      "  [[ 0.41016716 -0.5763572  -0.33425155  0.73333631 -0.0152886\n",
      "    -0.08156195]\n",
      "   [ 0.30903092  0.13954489 -0.05131748 -0.00213512  0.32994977\n",
      "    -0.134229  ]]]]\n"
     ]
    }
   ],
   "source": [
    "\n",
    "np.random.seed(1)\n",
    "A_prev = np.random.randn(4, 8, 8, 6)\n",
    "hparameters = {\"stride\" : 4, \"f\": 4}\n",
    "\n",
    "A, cache = pool_forward(A_prev, hparameters)\n",
    "print(\"mode = max\")\n",
    "print(\"A =\", A)\n",
    "print()\n",
    "A, cache = pool_forward(A_prev, hparameters, mode = \"average\")\n",
    "print(\"mode = average\")\n",
    "print(\"A =\", A)"
   ]
  },
  {
   "cell_type": "code",
   "execution_count": null,
   "metadata": {},
   "outputs": [],
   "source": []
  }
 ],
 "metadata": {
  "kernelspec": {
   "display_name": "Python 3",
   "language": "python",
   "name": "python3"
  },
  "language_info": {
   "codemirror_mode": {
    "name": "ipython",
    "version": 3
   },
   "file_extension": ".py",
   "mimetype": "text/x-python",
   "name": "python",
   "nbconvert_exporter": "python",
   "pygments_lexer": "ipython3",
   "version": "3.7.3"
  }
 },
 "nbformat": 4,
 "nbformat_minor": 2
}
