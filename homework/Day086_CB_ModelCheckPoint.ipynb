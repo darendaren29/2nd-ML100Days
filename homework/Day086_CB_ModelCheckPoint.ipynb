{
 "cells": [
  {
   "cell_type": "markdown",
   "metadata": {},
   "source": [
    "## 範例重點\n",
    "* 學習如何在 keras 中加入 model checkpoint\n",
    "* 知道如何設定監控目標\n",
    "* 比較使用最佳與非最佳參數時的 performance"
   ]
  },
  {
   "cell_type": "code",
   "execution_count": 1,
   "metadata": {},
   "outputs": [
    {
     "name": "stderr",
     "output_type": "stream",
     "text": [
      "Using TensorFlow backend.\n"
     ]
    }
   ],
   "source": [
    "import os\n",
    "import keras\n",
    "\n",
    "# 本範例不需使用 GPU, 將 GPU 設定為 \"無\"\n",
    "os.environ[\"CUDA_VISIBLE_DEVICES\"] = \"\""
   ]
  },
  {
   "cell_type": "code",
   "execution_count": 2,
   "metadata": {},
   "outputs": [],
   "source": [
    "train, test = keras.datasets.cifar10.load_data()"
   ]
  },
  {
   "cell_type": "code",
   "execution_count": 3,
   "metadata": {},
   "outputs": [],
   "source": [
    "## 資料前處理\n",
    "def preproc_x(x, flatten=True):\n",
    "    x = x / 255.\n",
    "    if flatten:\n",
    "        x = x.reshape((len(x), -1))\n",
    "    return x\n",
    "\n",
    "def preproc_y(y, num_classes=10):\n",
    "    if y.shape[-1] == 1:\n",
    "        y = keras.utils.to_categorical(y, num_classes)\n",
    "    return y    "
   ]
  },
  {
   "cell_type": "code",
   "execution_count": 4,
   "metadata": {},
   "outputs": [],
   "source": [
    "x_train, y_train = train\n",
    "x_test, y_test = test\n",
    "\n",
    "# 資料前處理 - X 標準化\n",
    "x_train = preproc_x(x_train)\n",
    "x_test = preproc_x(x_test)\n",
    "\n",
    "# 資料前處理 -Y 轉成 onehot\n",
    "y_train = preproc_y(y_train)\n",
    "y_test = preproc_y(y_test)"
   ]
  },
  {
   "cell_type": "code",
   "execution_count": 5,
   "metadata": {},
   "outputs": [],
   "source": [
    "from keras.layers import BatchNormalization\n",
    "\n",
    "\"\"\"\n",
    "建立神經網路，並加入 BN layer\n",
    "\"\"\"\n",
    "def build_mlp(input_shape, output_units=10, num_neurons=[512, 256, 128]):\n",
    "    input_layer = keras.layers.Input(input_shape)\n",
    "    \n",
    "    for i, n_units in enumerate(num_neurons):\n",
    "        if i == 0:\n",
    "            x = keras.layers.Dense(units=n_units, \n",
    "                                   activation=\"relu\", \n",
    "                                   name=\"hidden_layer\"+str(i+1))(input_layer)\n",
    "            x = BatchNormalization()(x)\n",
    "        else:\n",
    "            x = keras.layers.Dense(units=n_units, \n",
    "                                   activation=\"relu\", \n",
    "                                   name=\"hidden_layer\"+str(i+1))(x)\n",
    "            x = BatchNormalization()(x)\n",
    "    \n",
    "    out = keras.layers.Dense(units=output_units, activation=\"softmax\", name=\"output\")(x)\n",
    "    \n",
    "    model = keras.models.Model(inputs=[input_layer], outputs=[out])\n",
    "    return model"
   ]
  },
  {
   "cell_type": "code",
   "execution_count": 6,
   "metadata": {},
   "outputs": [],
   "source": [
    "## 超參數設定\n",
    "LEARNING_RATE = 1e-3\n",
    "EPOCHS = 50\n",
    "BATCH_SIZE = 1024\n",
    "MOMENTUM = 0.95"
   ]
  },
  {
   "cell_type": "code",
   "execution_count": 7,
   "metadata": {},
   "outputs": [],
   "source": [
    "\"\"\"\n",
    "# 載入 Callbacks, 並將監控目標設為 validation loss, 且只存最佳參數時的模型\n",
    "\"\"\"\n",
    "from keras.callbacks import ModelCheckpoint\n",
    "\n",
    "model_ckpt = ModelCheckpoint(filepath=\"./tmp.h5\", \n",
    "                             monitor=\"val_loss\", \n",
    "                             save_best_only=True)"
   ]
  },
  {
   "cell_type": "code",
   "execution_count": 8,
   "metadata": {
    "scrolled": true
   },
   "outputs": [
    {
     "name": "stdout",
     "output_type": "stream",
     "text": [
      "WARNING:tensorflow:From C:\\ProgramData\\Anaconda3\\lib\\site-packages\\tensorflow\\python\\framework\\op_def_library.py:263: colocate_with (from tensorflow.python.framework.ops) is deprecated and will be removed in a future version.\n",
      "Instructions for updating:\n",
      "Colocations handled automatically by placer.\n",
      "_________________________________________________________________\n",
      "Layer (type)                 Output Shape              Param #   \n",
      "=================================================================\n",
      "input_1 (InputLayer)         (None, 3072)              0         \n",
      "_________________________________________________________________\n",
      "hidden_layer1 (Dense)        (None, 512)               1573376   \n",
      "_________________________________________________________________\n",
      "batch_normalization_1 (Batch (None, 512)               2048      \n",
      "_________________________________________________________________\n",
      "hidden_layer2 (Dense)        (None, 256)               131328    \n",
      "_________________________________________________________________\n",
      "batch_normalization_2 (Batch (None, 256)               1024      \n",
      "_________________________________________________________________\n",
      "hidden_layer3 (Dense)        (None, 128)               32896     \n",
      "_________________________________________________________________\n",
      "batch_normalization_3 (Batch (None, 128)               512       \n",
      "_________________________________________________________________\n",
      "output (Dense)               (None, 10)                1290      \n",
      "=================================================================\n",
      "Total params: 1,742,474\n",
      "Trainable params: 1,740,682\n",
      "Non-trainable params: 1,792\n",
      "_________________________________________________________________\n",
      "WARNING:tensorflow:From C:\\ProgramData\\Anaconda3\\lib\\site-packages\\tensorflow\\python\\ops\\math_ops.py:3066: to_int32 (from tensorflow.python.ops.math_ops) is deprecated and will be removed in a future version.\n",
      "Instructions for updating:\n",
      "Use tf.cast instead.\n",
      "Train on 50000 samples, validate on 10000 samples\n",
      "Epoch 1/50\n",
      "50000/50000 [==============================] - 4s 74us/step - loss: 2.2161 - acc: 0.2705 - val_loss: 2.0710 - val_acc: 0.3293\n",
      "Epoch 2/50\n",
      "50000/50000 [==============================] - 2s 35us/step - loss: 1.7424 - acc: 0.3882 - val_loss: 1.8571 - val_acc: 0.3694\n",
      "Epoch 3/50\n",
      "50000/50000 [==============================] - 2s 33us/step - loss: 1.6156 - acc: 0.4331 - val_loss: 1.6849 - val_acc: 0.4141\n",
      "Epoch 4/50\n",
      "50000/50000 [==============================] - 2s 33us/step - loss: 1.5451 - acc: 0.4580 - val_loss: 1.6648 - val_acc: 0.4146\n",
      "Epoch 5/50\n",
      "50000/50000 [==============================] - 2s 34us/step - loss: 1.4918 - acc: 0.4780 - val_loss: 1.5889 - val_acc: 0.4442\n",
      "Epoch 6/50\n",
      "50000/50000 [==============================] - 2s 34us/step - loss: 1.4439 - acc: 0.4957 - val_loss: 1.5716 - val_acc: 0.4465\n",
      "Epoch 7/50\n",
      "50000/50000 [==============================] - 2s 33us/step - loss: 1.4047 - acc: 0.5097 - val_loss: 1.5361 - val_acc: 0.4646\n",
      "Epoch 8/50\n",
      "50000/50000 [==============================] - 2s 33us/step - loss: 1.3697 - acc: 0.5222 - val_loss: 1.5406 - val_acc: 0.4610\n",
      "Epoch 9/50\n",
      "50000/50000 [==============================] - 2s 34us/step - loss: 1.3376 - acc: 0.5364 - val_loss: 1.5139 - val_acc: 0.4670\n",
      "Epoch 10/50\n",
      "50000/50000 [==============================] - 2s 35us/step - loss: 1.3071 - acc: 0.5471 - val_loss: 1.5080 - val_acc: 0.4731\n",
      "Epoch 11/50\n",
      "50000/50000 [==============================] - 2s 33us/step - loss: 1.2803 - acc: 0.5542 - val_loss: 1.4889 - val_acc: 0.4783\n",
      "Epoch 12/50\n",
      "50000/50000 [==============================] - 2s 33us/step - loss: 1.2532 - acc: 0.5676 - val_loss: 1.4851 - val_acc: 0.4803\n",
      "Epoch 13/50\n",
      "50000/50000 [==============================] - 2s 33us/step - loss: 1.2272 - acc: 0.5758 - val_loss: 1.4768 - val_acc: 0.4833\n",
      "Epoch 14/50\n",
      "50000/50000 [==============================] - 2s 33us/step - loss: 1.2021 - acc: 0.5857 - val_loss: 1.4720 - val_acc: 0.4835\n",
      "Epoch 15/50\n",
      "50000/50000 [==============================] - 2s 34us/step - loss: 1.1782 - acc: 0.5939 - val_loss: 1.4719 - val_acc: 0.4889\n",
      "Epoch 16/50\n",
      "50000/50000 [==============================] - 2s 33us/step - loss: 1.1545 - acc: 0.6014 - val_loss: 1.4574 - val_acc: 0.4898\n",
      "Epoch 17/50\n",
      "50000/50000 [==============================] - 2s 33us/step - loss: 1.1318 - acc: 0.6092 - val_loss: 1.4535 - val_acc: 0.4910\n",
      "Epoch 18/50\n",
      "50000/50000 [==============================] - 2s 34us/step - loss: 1.1090 - acc: 0.6209 - val_loss: 1.4558 - val_acc: 0.4842\n",
      "Epoch 19/50\n",
      "50000/50000 [==============================] - 2s 33us/step - loss: 1.0870 - acc: 0.6260 - val_loss: 1.4574 - val_acc: 0.4932\n",
      "Epoch 20/50\n",
      "50000/50000 [==============================] - 2s 33us/step - loss: 1.0649 - acc: 0.6358 - val_loss: 1.4489 - val_acc: 0.4923\n",
      "Epoch 21/50\n",
      "50000/50000 [==============================] - 2s 33us/step - loss: 1.0430 - acc: 0.6457 - val_loss: 1.4567 - val_acc: 0.4910\n",
      "Epoch 22/50\n",
      "50000/50000 [==============================] - 2s 34us/step - loss: 1.0224 - acc: 0.6525 - val_loss: 1.4611 - val_acc: 0.4929\n",
      "Epoch 23/50\n",
      "50000/50000 [==============================] - 2s 34us/step - loss: 1.0009 - acc: 0.6596 - val_loss: 1.4580 - val_acc: 0.4959\n",
      "Epoch 24/50\n",
      "50000/50000 [==============================] - 2s 34us/step - loss: 0.9805 - acc: 0.6684 - val_loss: 1.4536 - val_acc: 0.4966\n",
      "Epoch 25/50\n",
      "50000/50000 [==============================] - 2s 33us/step - loss: 0.9605 - acc: 0.6767 - val_loss: 1.4594 - val_acc: 0.4995\n",
      "Epoch 26/50\n",
      "50000/50000 [==============================] - 2s 33us/step - loss: 0.9390 - acc: 0.6857 - val_loss: 1.4692 - val_acc: 0.4922\n",
      "Epoch 27/50\n",
      "50000/50000 [==============================] - 2s 33us/step - loss: 0.9215 - acc: 0.6910 - val_loss: 1.4704 - val_acc: 0.4949\n",
      "Epoch 28/50\n",
      "50000/50000 [==============================] - 2s 33us/step - loss: 0.8985 - acc: 0.6994 - val_loss: 1.4782 - val_acc: 0.4949\n",
      "Epoch 29/50\n",
      "50000/50000 [==============================] - 2s 33us/step - loss: 0.8804 - acc: 0.7075 - val_loss: 1.4725 - val_acc: 0.4949\n",
      "Epoch 30/50\n",
      "50000/50000 [==============================] - 2s 34us/step - loss: 0.8601 - acc: 0.7156 - val_loss: 1.4738 - val_acc: 0.4943\n",
      "Epoch 31/50\n",
      "50000/50000 [==============================] - 2s 33us/step - loss: 0.8420 - acc: 0.7236 - val_loss: 1.4805 - val_acc: 0.4965\n",
      "Epoch 32/50\n",
      "50000/50000 [==============================] - 2s 34us/step - loss: 0.8221 - acc: 0.7306 - val_loss: 1.4851 - val_acc: 0.4978\n",
      "Epoch 33/50\n",
      "50000/50000 [==============================] - 2s 34us/step - loss: 0.8028 - acc: 0.7387 - val_loss: 1.4886 - val_acc: 0.4971\n",
      "Epoch 34/50\n",
      "50000/50000 [==============================] - 2s 34us/step - loss: 0.7836 - acc: 0.7453 - val_loss: 1.5033 - val_acc: 0.4943\n",
      "Epoch 35/50\n",
      "50000/50000 [==============================] - 2s 34us/step - loss: 0.7652 - acc: 0.7543 - val_loss: 1.5235 - val_acc: 0.4920\n",
      "Epoch 36/50\n",
      "50000/50000 [==============================] - 2s 34us/step - loss: 0.7474 - acc: 0.7597 - val_loss: 1.5128 - val_acc: 0.4969\n",
      "Epoch 37/50\n",
      "50000/50000 [==============================] - 2s 34us/step - loss: 0.7268 - acc: 0.7678 - val_loss: 1.5235 - val_acc: 0.4962\n",
      "Epoch 38/50\n",
      "50000/50000 [==============================] - 2s 33us/step - loss: 0.7079 - acc: 0.7770 - val_loss: 1.5491 - val_acc: 0.4867\n",
      "Epoch 39/50\n",
      "50000/50000 [==============================] - 2s 34us/step - loss: 0.6906 - acc: 0.7839 - val_loss: 1.5389 - val_acc: 0.4966\n",
      "Epoch 40/50\n",
      "50000/50000 [==============================] - 2s 38us/step - loss: 0.6732 - acc: 0.7915 - val_loss: 1.5588 - val_acc: 0.4900\n",
      "Epoch 41/50\n",
      "50000/50000 [==============================] - 2s 36us/step - loss: 0.6538 - acc: 0.7977 - val_loss: 1.5628 - val_acc: 0.4949\n",
      "Epoch 42/50\n",
      "50000/50000 [==============================] - 2s 35us/step - loss: 0.6378 - acc: 0.8049 - val_loss: 1.5629 - val_acc: 0.4930\n",
      "Epoch 43/50\n",
      "50000/50000 [==============================] - 2s 35us/step - loss: 0.6211 - acc: 0.8112 - val_loss: 1.5706 - val_acc: 0.4965\n",
      "Epoch 44/50\n",
      "50000/50000 [==============================] - 2s 35us/step - loss: 0.6029 - acc: 0.8186 - val_loss: 1.5911 - val_acc: 0.4938\n",
      "Epoch 45/50\n",
      "50000/50000 [==============================] - 2s 37us/step - loss: 0.5857 - acc: 0.8267 - val_loss: 1.6029 - val_acc: 0.4879\n"
     ]
    },
    {
     "name": "stdout",
     "output_type": "stream",
     "text": [
      "Epoch 46/50\n",
      "50000/50000 [==============================] - 3s 52us/step - loss: 0.5684 - acc: 0.8323 - val_loss: 1.6164 - val_acc: 0.4943\n",
      "Epoch 47/50\n",
      "50000/50000 [==============================] - 3s 61us/step - loss: 0.5532 - acc: 0.8376 - val_loss: 1.6204 - val_acc: 0.4927\n",
      "Epoch 48/50\n",
      "50000/50000 [==============================] - 2s 37us/step - loss: 0.5359 - acc: 0.8449 - val_loss: 1.6586 - val_acc: 0.4925\n",
      "Epoch 49/50\n",
      "50000/50000 [==============================] - 2s 34us/step - loss: 0.5225 - acc: 0.8496 - val_loss: 1.6559 - val_acc: 0.4898\n",
      "Epoch 50/50\n",
      "50000/50000 [==============================] - 2s 35us/step - loss: 0.5071 - acc: 0.8574 - val_loss: 1.6584 - val_acc: 0.4905\n",
      "10000/10000 [==============================] - 1s 116us/step\n"
     ]
    }
   ],
   "source": [
    "model = build_mlp(input_shape=x_train.shape[1:])\n",
    "model.summary()\n",
    "optimizer = keras.optimizers.SGD(lr=LEARNING_RATE, nesterov=True, momentum=MOMENTUM)\n",
    "model.compile(loss=\"categorical_crossentropy\", metrics=[\"accuracy\"], optimizer=optimizer)\n",
    "\n",
    "model.fit(x_train, y_train, \n",
    "          epochs=EPOCHS, \n",
    "          batch_size=BATCH_SIZE, \n",
    "          validation_data=(x_test, y_test), \n",
    "          shuffle=True,\n",
    "          callbacks=[model_ckpt]\n",
    "         )\n",
    "\n",
    "# Collect results\n",
    "train_loss = model.history.history[\"loss\"]\n",
    "valid_loss = model.history.history[\"val_loss\"]\n",
    "train_acc = model.history.history[\"acc\"]\n",
    "valid_acc = model.history.history[\"val_acc\"]\n",
    "\n",
    "# Load back\n",
    "model = keras.models.load_model(\"./tmp.h5\")\n",
    "loss_loadback, acc_loadback = model.evaluate(x_test, y_test)"
   ]
  },
  {
   "cell_type": "code",
   "execution_count": null,
   "metadata": {},
   "outputs": [],
   "source": [
    "import matplotlib.pyplot as plt\n",
    "%matplotlib inline\n",
    "\n",
    "plt.plot(range(len(train_loss)), train_loss, label=\"train loss\")\n",
    "plt.plot(range(len(valid_loss)), valid_loss, label=\"valid loss\")\n",
    "plt.hlines(y=loss_loadback, xmin=0, xmax=len(train_loss), colors='r', linestyles='--')\n",
    "plt.legend()\n",
    "plt.title(\"Loss\")\n",
    "plt.show()\n",
    "\n",
    "plt.plot(range(len(train_acc)), train_acc, label=\"train accuracy\")\n",
    "plt.plot(range(len(valid_acc)), valid_acc, label=\"valid accuracy\")\n",
    "plt.hlines(y=acc_loadback, xmin=0, xmax=len(train_loss), colors='r', linestyles='--')\n",
    "plt.legend()\n",
    "plt.title(\"Accuracy\")\n",
    "plt.show()"
   ]
  },
  {
   "cell_type": "markdown",
   "metadata": {},
   "source": [
    "## Work\n",
    "1. 試比較 save_best_only 與否的差異\n",
    "2. 請僅存入將 save_weights_only 設定為 True, 並嘗試 reset ipynb 並將模型與權重重新建回並預測 x_test"
   ]
  }
 ],
 "metadata": {
  "kernelspec": {
   "display_name": "Python 3",
   "language": "python",
   "name": "python3"
  },
  "language_info": {
   "codemirror_mode": {
    "name": "ipython",
    "version": 3
   },
   "file_extension": ".py",
   "mimetype": "text/x-python",
   "name": "python",
   "nbconvert_exporter": "python",
   "pygments_lexer": "ipython3",
   "version": "3.7.3"
  }
 },
 "nbformat": 4,
 "nbformat_minor": 2
}
